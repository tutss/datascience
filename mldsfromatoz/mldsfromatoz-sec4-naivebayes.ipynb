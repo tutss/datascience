{
 "cells": [
  {
   "cell_type": "code",
   "execution_count": 191,
   "id": "fe962a68",
   "metadata": {},
   "outputs": [],
   "source": [
    "import pandas as pd\n",
    "import numpy as np\n",
    "import seaborn as sns\n",
    "import matplotlib.pyplot as plt\n",
    "import plotly.express as px\n",
    "from yellowbrick.classifier import ConfusionMatrix\n",
    "\n",
    "from sklearn.preprocessing import LabelEncoder, OneHotEncoder\n",
    "from sklearn.naive_bayes import CategoricalNB, BernoulliNB, GaussianNB\n",
    "from sklearn.model_selection import train_test_split\n",
    "\n",
    "from sklearn.metrics import accuracy_score, confusion_matrix, precision_score, recall_score, classification_report"
   ]
  },
  {
   "cell_type": "markdown",
   "id": "4a4eb113",
   "metadata": {},
   "source": [
    "## Credit risk"
   ]
  },
  {
   "cell_type": "code",
   "execution_count": 57,
   "id": "084c6519",
   "metadata": {},
   "outputs": [],
   "source": [
    "rdata = pd.read_csv('/home/tuts/data/mldsfromatoz/risco_credito.csv')"
   ]
  },
  {
   "cell_type": "code",
   "execution_count": 58,
   "id": "37d43088",
   "metadata": {},
   "outputs": [
    {
     "data": {
      "text/html": [
       "<div>\n",
       "<style scoped>\n",
       "    .dataframe tbody tr th:only-of-type {\n",
       "        vertical-align: middle;\n",
       "    }\n",
       "\n",
       "    .dataframe tbody tr th {\n",
       "        vertical-align: top;\n",
       "    }\n",
       "\n",
       "    .dataframe thead th {\n",
       "        text-align: right;\n",
       "    }\n",
       "</style>\n",
       "<table border=\"1\" class=\"dataframe\">\n",
       "  <thead>\n",
       "    <tr style=\"text-align: right;\">\n",
       "      <th></th>\n",
       "      <th>historia</th>\n",
       "      <th>divida</th>\n",
       "      <th>garantias</th>\n",
       "      <th>renda</th>\n",
       "      <th>risco</th>\n",
       "    </tr>\n",
       "  </thead>\n",
       "  <tbody>\n",
       "    <tr>\n",
       "      <th>0</th>\n",
       "      <td>ruim</td>\n",
       "      <td>alta</td>\n",
       "      <td>nenhuma</td>\n",
       "      <td>0_15</td>\n",
       "      <td>alto</td>\n",
       "    </tr>\n",
       "    <tr>\n",
       "      <th>1</th>\n",
       "      <td>desconhecida</td>\n",
       "      <td>alta</td>\n",
       "      <td>nenhuma</td>\n",
       "      <td>15_35</td>\n",
       "      <td>alto</td>\n",
       "    </tr>\n",
       "    <tr>\n",
       "      <th>2</th>\n",
       "      <td>desconhecida</td>\n",
       "      <td>baixa</td>\n",
       "      <td>nenhuma</td>\n",
       "      <td>15_35</td>\n",
       "      <td>moderado</td>\n",
       "    </tr>\n",
       "    <tr>\n",
       "      <th>3</th>\n",
       "      <td>desconhecida</td>\n",
       "      <td>baixa</td>\n",
       "      <td>nenhuma</td>\n",
       "      <td>acima_35</td>\n",
       "      <td>alto</td>\n",
       "    </tr>\n",
       "    <tr>\n",
       "      <th>4</th>\n",
       "      <td>desconhecida</td>\n",
       "      <td>baixa</td>\n",
       "      <td>nenhuma</td>\n",
       "      <td>acima_35</td>\n",
       "      <td>baixo</td>\n",
       "    </tr>\n",
       "  </tbody>\n",
       "</table>\n",
       "</div>"
      ],
      "text/plain": [
       "       historia divida garantias     renda     risco\n",
       "0          ruim   alta   nenhuma      0_15      alto\n",
       "1  desconhecida   alta   nenhuma     15_35      alto\n",
       "2  desconhecida  baixa   nenhuma     15_35  moderado\n",
       "3  desconhecida  baixa   nenhuma  acima_35      alto\n",
       "4  desconhecida  baixa   nenhuma  acima_35     baixo"
      ]
     },
     "execution_count": 58,
     "metadata": {},
     "output_type": "execute_result"
    }
   ],
   "source": [
    "rdata.head()"
   ]
  },
  {
   "cell_type": "code",
   "execution_count": 133,
   "id": "2e272634",
   "metadata": {},
   "outputs": [],
   "source": [
    "X = rdata[['historia', 'divida', 'garantias', 'renda']]\n",
    "y = rdata[['risco']]"
   ]
  },
  {
   "cell_type": "code",
   "execution_count": 134,
   "id": "0e577464",
   "metadata": {},
   "outputs": [
    {
     "data": {
      "text/plain": [
       "desconhecida    5\n",
       "boa             5\n",
       "ruim            4\n",
       "Name: historia, dtype: int64"
      ]
     },
     "execution_count": 134,
     "metadata": {},
     "output_type": "execute_result"
    }
   ],
   "source": [
    "X.historia.value_counts()"
   ]
  },
  {
   "cell_type": "code",
   "execution_count": 135,
   "id": "06a3cd21",
   "metadata": {},
   "outputs": [
    {
     "data": {
      "text/plain": [
       "alta     7\n",
       "baixa    7\n",
       "Name: divida, dtype: int64"
      ]
     },
     "execution_count": 135,
     "metadata": {},
     "output_type": "execute_result"
    }
   ],
   "source": [
    "X.divida.value_counts()"
   ]
  },
  {
   "cell_type": "code",
   "execution_count": 136,
   "id": "21a2f1c8",
   "metadata": {},
   "outputs": [
    {
     "data": {
      "text/plain": [
       "nenhuma     11\n",
       "adequada     3\n",
       "Name: garantias, dtype: int64"
      ]
     },
     "execution_count": 136,
     "metadata": {},
     "output_type": "execute_result"
    }
   ],
   "source": [
    "X.garantias.value_counts()"
   ]
  },
  {
   "cell_type": "code",
   "execution_count": 137,
   "id": "486b19fc",
   "metadata": {},
   "outputs": [
    {
     "data": {
      "text/plain": [
       "acima_35    7\n",
       "15_35       4\n",
       "0_15        3\n",
       "Name: renda, dtype: int64"
      ]
     },
     "execution_count": 137,
     "metadata": {},
     "output_type": "execute_result"
    }
   ],
   "source": [
    "X.renda.value_counts()"
   ]
  },
  {
   "cell_type": "code",
   "execution_count": 138,
   "id": "3b98ed78",
   "metadata": {},
   "outputs": [
    {
     "name": "stderr",
     "output_type": "stream",
     "text": [
      "/tmp/ipykernel_17537/3469321362.py:7: SettingWithCopyWarning: \n",
      "A value is trying to be set on a copy of a slice from a DataFrame.\n",
      "Try using .loc[row_indexer,col_indexer] = value instead\n",
      "\n",
      "See the caveats in the documentation: https://pandas.pydata.org/pandas-docs/stable/user_guide/indexing.html#returning-a-view-versus-a-copy\n",
      "  df[col] = l.transform(df[col])\n"
     ]
    }
   ],
   "source": [
    "def encode_cols(df):\n",
    "    encoders = list()\n",
    "    for col in df.columns:\n",
    "        l = LabelEncoder()\n",
    "        l.fit(df[col])\n",
    "        encoders.append(l)\n",
    "        df[col] = l.transform(df[col])\n",
    "    return encoders\n",
    "        \n",
    "        \n",
    "X_encoders = encode_cols(X)\n",
    "y_encoder = encode_cols(y)[0] # not necessary"
   ]
  },
  {
   "cell_type": "code",
   "execution_count": 139,
   "id": "f19fa026",
   "metadata": {},
   "outputs": [
    {
     "data": {
      "text/plain": [
       "4"
      ]
     },
     "execution_count": 139,
     "metadata": {},
     "output_type": "execute_result"
    }
   ],
   "source": [
    "len(X_encoders)"
   ]
  },
  {
   "cell_type": "code",
   "execution_count": 142,
   "id": "255fd902",
   "metadata": {},
   "outputs": [
    {
     "data": {
      "text/html": [
       "<div>\n",
       "<style scoped>\n",
       "    .dataframe tbody tr th:only-of-type {\n",
       "        vertical-align: middle;\n",
       "    }\n",
       "\n",
       "    .dataframe tbody tr th {\n",
       "        vertical-align: top;\n",
       "    }\n",
       "\n",
       "    .dataframe thead th {\n",
       "        text-align: right;\n",
       "    }\n",
       "</style>\n",
       "<table border=\"1\" class=\"dataframe\">\n",
       "  <thead>\n",
       "    <tr style=\"text-align: right;\">\n",
       "      <th></th>\n",
       "      <th>historia</th>\n",
       "      <th>divida</th>\n",
       "      <th>garantias</th>\n",
       "      <th>renda</th>\n",
       "    </tr>\n",
       "  </thead>\n",
       "  <tbody>\n",
       "    <tr>\n",
       "      <th>0</th>\n",
       "      <td>2</td>\n",
       "      <td>0</td>\n",
       "      <td>1</td>\n",
       "      <td>0</td>\n",
       "    </tr>\n",
       "    <tr>\n",
       "      <th>1</th>\n",
       "      <td>1</td>\n",
       "      <td>0</td>\n",
       "      <td>1</td>\n",
       "      <td>1</td>\n",
       "    </tr>\n",
       "    <tr>\n",
       "      <th>2</th>\n",
       "      <td>1</td>\n",
       "      <td>1</td>\n",
       "      <td>1</td>\n",
       "      <td>1</td>\n",
       "    </tr>\n",
       "    <tr>\n",
       "      <th>3</th>\n",
       "      <td>1</td>\n",
       "      <td>1</td>\n",
       "      <td>1</td>\n",
       "      <td>2</td>\n",
       "    </tr>\n",
       "    <tr>\n",
       "      <th>4</th>\n",
       "      <td>1</td>\n",
       "      <td>1</td>\n",
       "      <td>1</td>\n",
       "      <td>2</td>\n",
       "    </tr>\n",
       "  </tbody>\n",
       "</table>\n",
       "</div>"
      ],
      "text/plain": [
       "   historia  divida  garantias  renda\n",
       "0         2       0          1      0\n",
       "1         1       0          1      1\n",
       "2         1       1          1      1\n",
       "3         1       1          1      2\n",
       "4         1       1          1      2"
      ]
     },
     "execution_count": 142,
     "metadata": {},
     "output_type": "execute_result"
    }
   ],
   "source": [
    "X.head()"
   ]
  },
  {
   "cell_type": "code",
   "execution_count": 143,
   "id": "e504bdd5",
   "metadata": {},
   "outputs": [
    {
     "data": {
      "text/html": [
       "<div>\n",
       "<style scoped>\n",
       "    .dataframe tbody tr th:only-of-type {\n",
       "        vertical-align: middle;\n",
       "    }\n",
       "\n",
       "    .dataframe tbody tr th {\n",
       "        vertical-align: top;\n",
       "    }\n",
       "\n",
       "    .dataframe thead th {\n",
       "        text-align: right;\n",
       "    }\n",
       "</style>\n",
       "<table border=\"1\" class=\"dataframe\">\n",
       "  <thead>\n",
       "    <tr style=\"text-align: right;\">\n",
       "      <th></th>\n",
       "      <th>risco</th>\n",
       "    </tr>\n",
       "  </thead>\n",
       "  <tbody>\n",
       "    <tr>\n",
       "      <th>0</th>\n",
       "      <td>0</td>\n",
       "    </tr>\n",
       "    <tr>\n",
       "      <th>1</th>\n",
       "      <td>0</td>\n",
       "    </tr>\n",
       "    <tr>\n",
       "      <th>2</th>\n",
       "      <td>2</td>\n",
       "    </tr>\n",
       "    <tr>\n",
       "      <th>3</th>\n",
       "      <td>0</td>\n",
       "    </tr>\n",
       "    <tr>\n",
       "      <th>4</th>\n",
       "      <td>1</td>\n",
       "    </tr>\n",
       "  </tbody>\n",
       "</table>\n",
       "</div>"
      ],
      "text/plain": [
       "   risco\n",
       "0      0\n",
       "1      0\n",
       "2      2\n",
       "3      0\n",
       "4      1"
      ]
     },
     "execution_count": 143,
     "metadata": {},
     "output_type": "execute_result"
    }
   ],
   "source": [
    "y.head()"
   ]
  },
  {
   "cell_type": "code",
   "execution_count": 144,
   "id": "aa2de3ad",
   "metadata": {},
   "outputs": [
    {
     "data": {
      "text/plain": [
       "GaussianNB()"
      ]
     },
     "execution_count": 144,
     "metadata": {},
     "output_type": "execute_result"
    }
   ],
   "source": [
    "nb = GaussianNB()\n",
    "\n",
    "nb.fit(X.values, y.risco.values)"
   ]
  },
  {
   "cell_type": "code",
   "execution_count": 145,
   "id": "5bb82d10",
   "metadata": {},
   "outputs": [
    {
     "data": {
      "text/plain": [
       "[array([0, 2]), array([0, 0]), array([1, 0]), array([2, 0])]"
      ]
     },
     "execution_count": 145,
     "metadata": {},
     "output_type": "execute_result"
    }
   ],
   "source": [
    "client = [\n",
    "    ['boa', 'ruim'],\n",
    "    ['alta', 'alta'],\n",
    "    ['nenhuma', 'adequada'],\n",
    "    ['acima_35', '0_15']\n",
    "]\n",
    "\n",
    "client_encoded = list()\n",
    "\n",
    "for client_attr, encoder in zip(client, X_encoders):\n",
    "    client_encoded.append(encoder.transform(client_attr))\n",
    "\n",
    "client_encoded"
   ]
  },
  {
   "cell_type": "code",
   "execution_count": 146,
   "id": "16a7ab91",
   "metadata": {
    "scrolled": true
   },
   "outputs": [
    {
     "data": {
      "text/plain": [
       "array(['baixo'], dtype=object)"
      ]
     },
     "execution_count": 146,
     "metadata": {},
     "output_type": "execute_result"
    }
   ],
   "source": [
    "pred_1 = nb.predict(np.array([item[0] for item in client_encoded]).reshape(1, 4))\n",
    "pred_2 = nb.predict(np.array([item[1] for item in client_encoded]).reshape(1, 4))"
   ]
  },
  {
   "cell_type": "code",
   "execution_count": 148,
   "id": "8a1f9eea",
   "metadata": {},
   "outputs": [
    {
     "name": "stdout",
     "output_type": "stream",
     "text": [
      "Pred 1 = ['baixo']\n",
      "Pred 2 = ['moderado']\n"
     ]
    }
   ],
   "source": [
    "print(f'Pred 1 = {y_encoder.inverse_transform(pred_1)}')\n",
    "print(f'Pred 2 = {y_encoder.inverse_transform(pred_2)}')"
   ]
  },
  {
   "cell_type": "markdown",
   "id": "66296386",
   "metadata": {},
   "source": [
    "## Credit data"
   ]
  },
  {
   "cell_type": "code",
   "execution_count": 152,
   "id": "8da4e1a9",
   "metadata": {},
   "outputs": [],
   "source": [
    "with open('credit_data_X.npy', 'rb') as f:\n",
    "    X = np.load(f)\n",
    "\n",
    "with open('credit_data_y.npy', 'rb') as f:\n",
    "    y = np.load(f)"
   ]
  },
  {
   "cell_type": "code",
   "execution_count": 155,
   "id": "c814d569",
   "metadata": {},
   "outputs": [],
   "source": [
    "X_tr, X_t, y_tr, y_t = train_test_split(X, y, test_size=0.2)"
   ]
  },
  {
   "cell_type": "code",
   "execution_count": 158,
   "id": "5e0b6108",
   "metadata": {},
   "outputs": [
    {
     "data": {
      "text/plain": [
       "((1600, 3), (1600, 1))"
      ]
     },
     "execution_count": 158,
     "metadata": {},
     "output_type": "execute_result"
    }
   ],
   "source": [
    "X_tr.shape, y_tr.shape"
   ]
  },
  {
   "cell_type": "code",
   "execution_count": 174,
   "id": "cea5f148",
   "metadata": {},
   "outputs": [
    {
     "data": {
      "text/plain": [
       "GaussianNB()"
      ]
     },
     "execution_count": 174,
     "metadata": {},
     "output_type": "execute_result"
    }
   ],
   "source": [
    "nb_cr = GaussianNB()\n",
    "nb_cr.fit(X_tr, y_tr.reshape(1,-1)[0])"
   ]
  },
  {
   "cell_type": "code",
   "execution_count": 175,
   "id": "d9bc81f6",
   "metadata": {},
   "outputs": [],
   "source": [
    "pred = nb_cr.predict(X_t)"
   ]
  },
  {
   "cell_type": "code",
   "execution_count": 178,
   "id": "a68b925f",
   "metadata": {},
   "outputs": [
    {
     "data": {
      "text/plain": [
       "0.95"
      ]
     },
     "execution_count": 178,
     "metadata": {},
     "output_type": "execute_result"
    }
   ],
   "source": [
    "accuracy_score(y_t, pred)"
   ]
  },
  {
   "cell_type": "code",
   "execution_count": 189,
   "id": "e0640b6c",
   "metadata": {},
   "outputs": [
    {
     "data": {
      "text/plain": [
       "0.8333333333333334"
      ]
     },
     "execution_count": 189,
     "metadata": {},
     "output_type": "execute_result"
    }
   ],
   "source": [
    "precision_score(y_t, pred)"
   ]
  },
  {
   "cell_type": "code",
   "execution_count": 190,
   "id": "f8771d86",
   "metadata": {},
   "outputs": [
    {
     "data": {
      "text/plain": [
       "0.6818181818181818"
      ]
     },
     "execution_count": 190,
     "metadata": {},
     "output_type": "execute_result"
    }
   ],
   "source": [
    "recall_score(y_t, pred)"
   ]
  },
  {
   "cell_type": "code",
   "execution_count": 184,
   "id": "e12e87ea",
   "metadata": {},
   "outputs": [
    {
     "data": {
      "image/png": "[encoded data removed]",
      "text/plain": [
       "<Figure size 432x288 with 2 Axes>"
      ]
     },
     "metadata": {
      "needs_background": "light"
     },
     "output_type": "display_data"
    }
   ],
   "source": [
    "sns.heatmap(confusion_matrix(y_t, pred), annot=True, fmt='.2f', cmap='viridis');"
   ]
  },
  {
   "cell_type": "code",
   "execution_count": 187,
   "id": "b037f156",
   "metadata": {},
   "outputs": [
    {
     "data": {
      "text/plain": [
       "0.95"
      ]
     },
     "execution_count": 187,
     "metadata": {},
     "output_type": "execute_result"
    },
    {
     "data": {
      "image/png": "[encoded data removed]",
      "text/plain": [
       "<Figure size 576x396 with 1 Axes>"
      ]
     },
     "metadata": {},
     "output_type": "display_data"
    }
   ],
   "source": [
    "cm = ConfusionMatrix(nb_cr)\n",
    "cm.fit(X_tr, y_tr)\n",
    "cm.score(X_t, y_t)"
   ]
  },
  {
   "cell_type": "code",
   "execution_count": 193,
   "id": "e877e910",
   "metadata": {},
   "outputs": [
    {
     "name": "stdout",
     "output_type": "stream",
     "text": [
      "              precision    recall  f1-score   support\n",
      "\n",
      "           0       0.96      0.98      0.97       356\n",
      "           1       0.83      0.68      0.75        44\n",
      "\n",
      "    accuracy                           0.95       400\n",
      "   macro avg       0.90      0.83      0.86       400\n",
      "weighted avg       0.95      0.95      0.95       400\n",
      "\n"
     ]
    }
   ],
   "source": [
    "print(classification_report(y_t, pred))"
   ]
  },
  {
   "cell_type": "markdown",
   "id": "e5e79ea9",
   "metadata": {},
   "source": [
    "## Census"
   ]
  },
  {
   "cell_type": "code",
   "execution_count": null,
   "id": "4e1e9744",
   "metadata": {},
   "outputs": [],
   "source": []
  },
  {
   "cell_type": "code",
   "execution_count": null,
   "id": "b2f26ad2",
   "metadata": {},
   "outputs": [],
   "source": []
  }
 ],
 "metadata": {
  "kernelspec": {
   "display_name": "Python 3 (ipykernel)",
   "language": "python",
   "name": "python3"
  },
  "language_info": {
   "codemirror_mode": {
    "name": "ipython",
    "version": 3
   },
   "file_extension": ".py",
   "mimetype": "text/x-python",
   "name": "python",
   "nbconvert_exporter": "python",
   "pygments_lexer": "ipython3",
   "version": "3.9.7"
  }
 },
 "nbformat": 4,
 "nbformat_minor": 5
}
