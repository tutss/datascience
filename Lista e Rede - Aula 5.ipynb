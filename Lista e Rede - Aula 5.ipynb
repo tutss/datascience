{
 "cells": [
  {
   "cell_type": "code",
   "execution_count": 1,
   "metadata": {},
   "outputs": [
    {
     "data": {
      "text/plain": [
       "MLPClassifier(activation='tanh', alpha=0.005, batch_size='auto', beta_1=0.9,\n",
       "       beta_2=0.999, early_stopping=False, epsilon=1e-08,\n",
       "       hidden_layer_sizes=(1, 2), learning_rate='constant',\n",
       "       learning_rate_init=0.001, max_iter=200, momentum=0.9,\n",
       "       nesterovs_momentum=True, power_t=0.5, random_state=1, shuffle=True,\n",
       "       solver='lbfgs', tol=0.0001, validation_fraction=0.1, verbose=False,\n",
       "       warm_start=False)"
      ]
     },
     "execution_count": 1,
     "metadata": {},
     "output_type": "execute_result"
    }
   ],
   "source": [
    "from sklearn.neural_network import MLPClassifier\n",
    "X = [[0,1],[1,0],[1,1],[0,0]]\n",
    "y = [1,1,1,0]\n",
    "clf = MLPClassifier(solver='lbfgs', activation='tanh',alpha=0.005,\n",
    "                   hidden_layer_sizes=(1,2), random_state=1)\n",
    "clf.fit(X,y)"
   ]
  },
  {
   "cell_type": "code",
   "execution_count": 2,
   "metadata": {},
   "outputs": [
    {
     "data": {
      "text/plain": [
       "array([1])"
      ]
     },
     "execution_count": 2,
     "metadata": {},
     "output_type": "execute_result"
    }
   ],
   "source": [
    "clf.predict([[1,1]])"
   ]
  },
  {
   "cell_type": "code",
   "execution_count": 1,
   "metadata": {},
   "outputs": [],
   "source": [
    "import pandas as pd\n",
    "\n",
    "df = pd.read_fwf('data.txt')"
   ]
  },
  {
   "cell_type": "code",
   "execution_count": 2,
   "metadata": {},
   "outputs": [
    {
     "data": {
      "text/html": [
       "<div>\n",
       "<style scoped>\n",
       "    .dataframe tbody tr th:only-of-type {\n",
       "        vertical-align: middle;\n",
       "    }\n",
       "\n",
       "    .dataframe tbody tr th {\n",
       "        vertical-align: top;\n",
       "    }\n",
       "\n",
       "    .dataframe thead th {\n",
       "        text-align: right;\n",
       "    }\n",
       "</style>\n",
       "<table border=\"1\" class=\"dataframe\">\n",
       "  <thead>\n",
       "    <tr style=\"text-align: right;\">\n",
       "      <th></th>\n",
       "      <th>x</th>\n",
       "      <th>y</th>\n",
       "    </tr>\n",
       "  </thead>\n",
       "  <tbody>\n",
       "    <tr>\n",
       "      <th>0</th>\n",
       "      <td>-1.00</td>\n",
       "      <td>0.9517</td>\n",
       "    </tr>\n",
       "    <tr>\n",
       "      <th>1</th>\n",
       "      <td>-0.95</td>\n",
       "      <td>0.9415</td>\n",
       "    </tr>\n",
       "    <tr>\n",
       "      <th>2</th>\n",
       "      <td>-0.90</td>\n",
       "      <td>0.8479</td>\n",
       "    </tr>\n",
       "    <tr>\n",
       "      <th>3</th>\n",
       "      <td>-0.85</td>\n",
       "      <td>0.7197</td>\n",
       "    </tr>\n",
       "    <tr>\n",
       "      <th>4</th>\n",
       "      <td>-0.80</td>\n",
       "      <td>0.6264</td>\n",
       "    </tr>\n",
       "  </tbody>\n",
       "</table>\n",
       "</div>"
      ],
      "text/plain": [
       "      x       y\n",
       "0 -1.00  0.9517\n",
       "1 -0.95  0.9415\n",
       "2 -0.90  0.8479\n",
       "3 -0.85  0.7197\n",
       "4 -0.80  0.6264"
      ]
     },
     "execution_count": 2,
     "metadata": {},
     "output_type": "execute_result"
    }
   ],
   "source": [
    "df.head()"
   ]
  },
  {
   "cell_type": "code",
   "execution_count": 4,
   "metadata": {},
   "outputs": [
    {
     "name": "stdout",
     "output_type": "stream",
     "text": [
      "       x       y\n",
      "5  -0.75  0.5521\n",
      "6  -0.70  0.4919\n",
      "7  -0.65  0.4245\n",
      "20  0.00 -0.0396\n",
      "21  0.05 -0.0362\n",
      "22  0.10  0.0555\n",
      "35\n",
      "6\n"
     ]
    }
   ],
   "source": [
    "import matplotlib.pyplot as plt\n",
    "data = df.copy()\n",
    "# cut.append(df.iloc[38:])\n",
    "cut_1 = data[5:8]\n",
    "cut_2 = data[20:23]\n",
    "cut = cut_1.append(cut_2)\n",
    "test_df = cut\n",
    "cut_3 = data[:5]\n",
    "cut_4 = data[8:20]\n",
    "cut_5 = data[23:]\n",
    "cut_train = cut_5.append(cut_4.append(cut_3))\n",
    "train_df = cut_train \n",
    "print(test_df)\n",
    "print(len(train_df))\n",
    "print(len(test_df))"
   ]
  },
  {
   "cell_type": "code",
   "execution_count": 33,
   "metadata": {},
   "outputs": [
    {
     "name": "stdout",
     "output_type": "stream",
     "text": [
      "      x       y\n",
      "5 -0.75  0.5521\n",
      "6 -0.70  0.4919\n",
      "7 -0.65  0.4245\n",
      "8 -0.60  0.3256\n",
      "9 -0.55  0.2978\n",
      "      x       y\n",
      "0 -1.00  0.9517\n",
      "1 -0.95  0.9415\n",
      "2 -0.90  0.8479\n",
      "3 -0.85  0.7197\n",
      "4 -0.80  0.6264\n"
     ]
    },
    {
     "data": {
      "text/plain": [
       "pandas.core.frame.DataFrame"
      ]
     },
     "execution_count": 33,
     "metadata": {},
     "output_type": "execute_result"
    },
    {
     "data": {
      "image/png": "[encoded data removed]",
      "text/plain": [
       "<matplotlib.figure.Figure at 0x7f98f9710d68>"
      ]
     },
     "metadata": {},
     "output_type": "display_data"
    }
   ],
   "source": [
    "plt.scatter(train_df['x'], train_df['y'])\n",
    "plt.scatter(test_df['x'], test_df['y'])\n",
    "\n",
    "print(train_df.head())\n",
    "print(test_df.head())\n",
    "type(train_df)"
   ]
  },
  {
   "cell_type": "code",
   "execution_count": 34,
   "metadata": {},
   "outputs": [],
   "source": [
    "from sklearn.neural_network import MLPRegressor\n",
    "regressor_1 = MLPRegressor(solver='adam', activation='tanh',alpha=0.001, beta_1=0.2, learning_rate_init=0.1,\n",
    "                          hidden_layer_sizes=(1,), random_state=1, verbose=True)\n"
   ]
  },
  {
   "cell_type": "code",
   "execution_count": 35,
   "metadata": {},
   "outputs": [],
   "source": [
    "regressor_2 = MLPRegressor(solver='adam', activation='tanh',alpha=0.001, beta_1=0.2, learning_rate_init=0.1,\n",
    "                          hidden_layer_sizes=(2,), random_state=2, verbose=True)\n",
    "\n"
   ]
  },
  {
   "cell_type": "code",
   "execution_count": 36,
   "metadata": {},
   "outputs": [],
   "source": [
    "regressor_3 = MLPRegressor(solver='adam', activation='tanh',alpha=0.001, beta_1=0.2, learning_rate_init=0.1,\n",
    "                          hidden_layer_sizes=(3,), random_state=3, verbose=True)\n"
   ]
  },
  {
   "cell_type": "code",
   "execution_count": 37,
   "metadata": {},
   "outputs": [],
   "source": [
    "regressor_4 = MLPRegressor(solver='adam', activation='tanh',alpha=0.001, beta_1=0.2, learning_rate_init=0.1,\n",
    "                          hidden_layer_sizes=(4,), random_state=4, verbose=True)"
   ]
  },
  {
   "cell_type": "code",
   "execution_count": 38,
   "metadata": {},
   "outputs": [],
   "source": [
    "X_train = []\n",
    "X_test = []\n",
    "for i in train_df['x']:\n",
    "    X_train.append([i])\n",
    "for j in test_df['x']:\n",
    "    X_test.append([j])"
   ]
  },
  {
   "cell_type": "code",
   "execution_count": 39,
   "metadata": {},
   "outputs": [],
   "source": [
    "y_train = list(train_df['y'])\n",
    "y_test = list(test_df['y'])"
   ]
  },
  {
   "cell_type": "code",
   "execution_count": 40,
   "metadata": {},
   "outputs": [
    {
     "name": "stdout",
     "output_type": "stream",
     "text": [
      "Iteration 1, loss = 2.01340132\n",
      "Iteration 2, loss = 1.49776503\n",
      "Iteration 3, loss = 1.08699705\n",
      "Iteration 4, loss = 0.78163678\n",
      "Iteration 5, loss = 0.56462020\n",
      "Iteration 6, loss = 0.41169503\n",
      "Iteration 7, loss = 0.30178909\n",
      "Iteration 8, loss = 0.22086793\n",
      "Iteration 9, loss = 0.16062902\n",
      "Iteration 10, loss = 0.11606743\n",
      "Iteration 11, loss = 0.08377214\n",
      "Iteration 12, loss = 0.06106191\n",
      "Iteration 13, loss = 0.04565124\n",
      "Iteration 14, loss = 0.03558186\n",
      "Iteration 15, loss = 0.02924529\n",
      "Iteration 16, loss = 0.02539891\n",
      "Iteration 17, loss = 0.02314209\n",
      "Iteration 18, loss = 0.02185960\n",
      "Iteration 19, loss = 0.02115254\n",
      "Iteration 20, loss = 0.02077390\n",
      "Iteration 21, loss = 0.02057676\n",
      "Iteration 22, loss = 0.02047693\n",
      "Iteration 23, loss = 0.02042773\n",
      "Iteration 24, loss = 0.02040413\n",
      "Training loss did not improve more than tol=0.000100 for two consecutive epochs. Stopping.\n"
     ]
    },
    {
     "data": {
      "text/plain": [
       "MLPRegressor(activation='tanh', alpha=0.001, batch_size='auto', beta_1=0.2,\n",
       "       beta_2=0.999, early_stopping=False, epsilon=1e-08,\n",
       "       hidden_layer_sizes=(1,), learning_rate='constant',\n",
       "       learning_rate_init=0.1, max_iter=200, momentum=0.9,\n",
       "       nesterovs_momentum=True, power_t=0.5, random_state=1, shuffle=True,\n",
       "       solver='adam', tol=0.0001, validation_fraction=0.1, verbose=True,\n",
       "       warm_start=False)"
      ]
     },
     "execution_count": 40,
     "metadata": {},
     "output_type": "execute_result"
    }
   ],
   "source": [
    "regressor_1.fit(X_train, y_train)"
   ]
  },
  {
   "cell_type": "code",
   "execution_count": 41,
   "metadata": {},
   "outputs": [
    {
     "name": "stdout",
     "output_type": "stream",
     "text": [
      "Iteration 1, loss = 0.55036061\n",
      "Iteration 2, loss = 0.38570566\n",
      "Iteration 3, loss = 0.25768661\n",
      "Iteration 4, loss = 0.15680703\n",
      "Iteration 5, loss = 0.08638100\n",
      "Iteration 6, loss = 0.04870408\n",
      "Iteration 7, loss = 0.03381603\n",
      "Iteration 8, loss = 0.02808624\n",
      "Iteration 9, loss = 0.02570344\n",
      "Iteration 10, loss = 0.02484660\n",
      "Iteration 11, loss = 0.02440649\n",
      "Iteration 12, loss = 0.02403851\n",
      "Iteration 13, loss = 0.02369896\n",
      "Iteration 14, loss = 0.02338498\n",
      "Iteration 15, loss = 0.02309631\n",
      "Iteration 16, loss = 0.02283176\n",
      "Iteration 17, loss = 0.02259007\n",
      "Iteration 18, loss = 0.02236989\n",
      "Iteration 19, loss = 0.02216984\n",
      "Iteration 20, loss = 0.02198851\n",
      "Iteration 21, loss = 0.02182449\n",
      "Iteration 22, loss = 0.02167641\n",
      "Iteration 23, loss = 0.02154298\n",
      "Iteration 24, loss = 0.02142296\n",
      "Iteration 25, loss = 0.02131517\n",
      "Iteration 26, loss = 0.02121852\n",
      "Iteration 27, loss = 0.02113201\n",
      "Iteration 28, loss = 0.02105468\n",
      "Training loss did not improve more than tol=0.000100 for two consecutive epochs. Stopping.\n"
     ]
    },
    {
     "data": {
      "text/plain": [
       "MLPRegressor(activation='tanh', alpha=0.001, batch_size='auto', beta_1=0.2,\n",
       "       beta_2=0.999, early_stopping=False, epsilon=1e-08,\n",
       "       hidden_layer_sizes=(2,), learning_rate='constant',\n",
       "       learning_rate_init=0.1, max_iter=200, momentum=0.9,\n",
       "       nesterovs_momentum=True, power_t=0.5, random_state=2, shuffle=True,\n",
       "       solver='adam', tol=0.0001, validation_fraction=0.1, verbose=True,\n",
       "       warm_start=False)"
      ]
     },
     "execution_count": 41,
     "metadata": {},
     "output_type": "execute_result"
    }
   ],
   "source": [
    "regressor_2.fit(X_train, y_train)\n"
   ]
  },
  {
   "cell_type": "code",
   "execution_count": 42,
   "metadata": {},
   "outputs": [
    {
     "name": "stdout",
     "output_type": "stream",
     "text": [
      "Iteration 1, loss = 1.48957108\n",
      "Iteration 2, loss = 0.84162640\n",
      "Iteration 3, loss = 0.42604150\n",
      "Iteration 4, loss = 0.18698021\n",
      "Iteration 5, loss = 0.07152126\n",
      "Iteration 6, loss = 0.02628227\n",
      "Iteration 7, loss = 0.01297752\n",
      "Iteration 8, loss = 0.01039619\n",
      "Iteration 9, loss = 0.01006103\n",
      "Iteration 10, loss = 0.00989120\n",
      "Iteration 11, loss = 0.00969189\n",
      "Iteration 12, loss = 0.00948822\n",
      "Iteration 13, loss = 0.00928092\n",
      "Iteration 14, loss = 0.00906736\n",
      "Iteration 15, loss = 0.00884767\n",
      "Iteration 16, loss = 0.00862260\n",
      "Iteration 17, loss = 0.00839286\n",
      "Iteration 18, loss = 0.00815914\n",
      "Iteration 19, loss = 0.00792217\n",
      "Iteration 20, loss = 0.00768266\n",
      "Iteration 21, loss = 0.00744133\n",
      "Iteration 22, loss = 0.00719889\n",
      "Iteration 23, loss = 0.00695605\n",
      "Iteration 24, loss = 0.00671350\n",
      "Iteration 25, loss = 0.00647195\n",
      "Iteration 26, loss = 0.00623204\n",
      "Iteration 27, loss = 0.00599443\n",
      "Iteration 28, loss = 0.00575973\n",
      "Iteration 29, loss = 0.00552853\n",
      "Iteration 30, loss = 0.00530138\n",
      "Iteration 31, loss = 0.00507881\n",
      "Iteration 32, loss = 0.00486128\n",
      "Iteration 33, loss = 0.00464923\n",
      "Iteration 34, loss = 0.00444305\n",
      "Iteration 35, loss = 0.00424309\n",
      "Iteration 36, loss = 0.00404963\n",
      "Iteration 37, loss = 0.00386294\n",
      "Iteration 38, loss = 0.00368322\n",
      "Iteration 39, loss = 0.00351062\n",
      "Iteration 40, loss = 0.00334526\n",
      "Iteration 41, loss = 0.00318721\n",
      "Iteration 42, loss = 0.00303650\n",
      "Iteration 43, loss = 0.00289311\n",
      "Iteration 44, loss = 0.00275700\n",
      "Iteration 45, loss = 0.00262809\n",
      "Iteration 46, loss = 0.00250627\n",
      "Iteration 47, loss = 0.00239139\n",
      "Iteration 48, loss = 0.00228329\n",
      "Iteration 49, loss = 0.00218179\n",
      "Iteration 50, loss = 0.00208667\n",
      "Iteration 51, loss = 0.00199771\n",
      "Iteration 52, loss = 0.00191468\n",
      "Training loss did not improve more than tol=0.000100 for two consecutive epochs. Stopping.\n"
     ]
    },
    {
     "data": {
      "text/plain": [
       "MLPRegressor(activation='tanh', alpha=0.001, batch_size='auto', beta_1=0.2,\n",
       "       beta_2=0.999, early_stopping=False, epsilon=1e-08,\n",
       "       hidden_layer_sizes=(3,), learning_rate='constant',\n",
       "       learning_rate_init=0.1, max_iter=200, momentum=0.9,\n",
       "       nesterovs_momentum=True, power_t=0.5, random_state=3, shuffle=True,\n",
       "       solver='adam', tol=0.0001, validation_fraction=0.1, verbose=True,\n",
       "       warm_start=False)"
      ]
     },
     "execution_count": 42,
     "metadata": {},
     "output_type": "execute_result"
    }
   ],
   "source": [
    "regressor_3.fit(X_train, y_train)\n"
   ]
  },
  {
   "cell_type": "code",
   "execution_count": 43,
   "metadata": {},
   "outputs": [
    {
     "name": "stdout",
     "output_type": "stream",
     "text": [
      "Iteration 1, loss = 1.02296428\n",
      "Iteration 2, loss = 0.48999524\n",
      "Iteration 3, loss = 0.20292150\n",
      "Iteration 4, loss = 0.08001797\n",
      "Iteration 5, loss = 0.03931380\n",
      "Iteration 6, loss = 0.02864672\n",
      "Iteration 7, loss = 0.02529651\n",
      "Iteration 8, loss = 0.02333447\n",
      "Iteration 9, loss = 0.02189456\n",
      "Iteration 10, loss = 0.02073309\n",
      "Iteration 11, loss = 0.01967637\n",
      "Iteration 12, loss = 0.01864518\n",
      "Iteration 13, loss = 0.01761337\n",
      "Iteration 14, loss = 0.01657491\n",
      "Iteration 15, loss = 0.01553185\n",
      "Iteration 16, loss = 0.01448945\n",
      "Iteration 17, loss = 0.01345433\n",
      "Iteration 18, loss = 0.01243385\n",
      "Iteration 19, loss = 0.01143581\n",
      "Iteration 20, loss = 0.01046815\n",
      "Iteration 21, loss = 0.00953862\n",
      "Iteration 22, loss = 0.00865438\n",
      "Iteration 23, loss = 0.00782166\n",
      "Iteration 24, loss = 0.00704546\n",
      "Iteration 25, loss = 0.00632930\n",
      "Iteration 26, loss = 0.00567519\n",
      "Iteration 27, loss = 0.00508357\n",
      "Iteration 28, loss = 0.00455344\n",
      "Iteration 29, loss = 0.00408258\n",
      "Iteration 30, loss = 0.00366770\n",
      "Iteration 31, loss = 0.00330482\n",
      "Iteration 32, loss = 0.00298941\n",
      "Iteration 33, loss = 0.00271673\n",
      "Iteration 34, loss = 0.00248199\n",
      "Iteration 35, loss = 0.00228054\n",
      "Iteration 36, loss = 0.00210798\n",
      "Iteration 37, loss = 0.00196025\n",
      "Iteration 38, loss = 0.00183370\n",
      "Iteration 39, loss = 0.00172510\n",
      "Iteration 40, loss = 0.00163163\n",
      "Iteration 41, loss = 0.00155086\n",
      "Iteration 42, loss = 0.00148073\n",
      "Training loss did not improve more than tol=0.000100 for two consecutive epochs. Stopping.\n"
     ]
    },
    {
     "data": {
      "text/plain": [
       "MLPRegressor(activation='tanh', alpha=0.001, batch_size='auto', beta_1=0.2,\n",
       "       beta_2=0.999, early_stopping=False, epsilon=1e-08,\n",
       "       hidden_layer_sizes=(4,), learning_rate='constant',\n",
       "       learning_rate_init=0.1, max_iter=200, momentum=0.9,\n",
       "       nesterovs_momentum=True, power_t=0.5, random_state=4, shuffle=True,\n",
       "       solver='adam', tol=0.0001, validation_fraction=0.1, verbose=True,\n",
       "       warm_start=False)"
      ]
     },
     "execution_count": 43,
     "metadata": {},
     "output_type": "execute_result"
    }
   ],
   "source": [
    "regressor_4.fit(X_train, y_train)"
   ]
  },
  {
   "cell_type": "code",
   "execution_count": 44,
   "metadata": {},
   "outputs": [
    {
     "name": "stdout",
     "output_type": "stream",
     "text": [
      "-27.887158691021696\n",
      "-27.903846723122104\n",
      "-6.095939794898828\n",
      "-3.820160519148925\n"
     ]
    }
   ],
   "source": [
    "print(regressor_1.score(X_test, y_test))\n",
    "print(regressor_2.score(X_test, y_test))\n",
    "print(regressor_3.score(X_test, y_test))\n",
    "print(regressor_4.score(X_test, y_test))\n",
    "\n"
   ]
  },
  {
   "cell_type": "code",
   "execution_count": 57,
   "metadata": {},
   "outputs": [
    {
     "data": {
      "text/plain": [
       "<matplotlib.collections.PathCollection at 0x7f98f0b95a58>"
      ]
     },
     "execution_count": 57,
     "metadata": {},
     "output_type": "execute_result"
    },
    {
     "data": {
      "image/png": "[encoded data removed]",
      "text/plain": [
       "<matplotlib.figure.Figure at 0x7f98f0bc74e0>"
      ]
     },
     "metadata": {},
     "output_type": "display_data"
    }
   ],
   "source": [
    "import numpy as np\n",
    "\n",
    "x_ = np.linspace(-1, 1, 30) # define axis\n",
    "\n",
    "pred_x = np.reshape(x_, [30, 1]) # [160, ] -> [160, 1]\n",
    "pred_y = regressor_1.predict(pred_x) # predict network output given x_\n",
    "plt.scatter(pred_x, pred_y) # plot network output"
   ]
  },
  {
   "cell_type": "code",
   "execution_count": 46,
   "metadata": {},
   "outputs": [
    {
     "data": {
      "text/plain": [
       "[<matplotlib.lines.Line2D at 0x7f98f0f96240>]"
      ]
     },
     "execution_count": 46,
     "metadata": {},
     "output_type": "execute_result"
    },
    {
     "data": {
      "image/png": "[encoded data removed]",
      "text/plain": [
       "<matplotlib.figure.Figure at 0x7f98f0f4b588>"
      ]
     },
     "metadata": {},
     "output_type": "display_data"
    }
   ],
   "source": [
    "x_ = np.linspace(-1, 1, 160) # define axis\n",
    "\n",
    "pred_x = np.reshape(x_, [160, 1]) # [160, ] -> [160, 1]\n",
    "pred_y = regressor_2.predict(pred_x) # predict network output given x_\n",
    "fig = plt.figure() \n",
    "plt.plot(x_, x_**2, color = 'r') # plot original function\n",
    "plt.plot(pred_x, pred_y, '-') # plot network output"
   ]
  },
  {
   "cell_type": "code",
   "execution_count": 62,
   "metadata": {},
   "outputs": [
    {
     "data": {
      "text/plain": [
       "<matplotlib.collections.PathCollection at 0x7f98f09a2ba8>"
      ]
     },
     "execution_count": 62,
     "metadata": {},
     "output_type": "execute_result"
    },
    {
     "data": {
      "image/png": "[encoded data removed]",
      "text/plain": [
       "<matplotlib.figure.Figure at 0x7f98f0a4fbe0>"
      ]
     },
     "metadata": {},
     "output_type": "display_data"
    }
   ],
   "source": [
    "x_ = np.linspace(-1, 1, 30) # define axis\n",
    "\n",
    "pred_x = np.reshape(x_, [30, 1]) # [160, ] -> [160, 1]\n",
    "pred_y = regressor_3.predict(pred_x) # predict network output given x_\n",
    "fig = plt.figure() \n",
    "plt.scatter(x_, x_**2, color = 'r') # plot original function\n",
    "plt.scatter(pred_x, pred_y) # plot network output"
   ]
  },
  {
   "cell_type": "code",
   "execution_count": 64,
   "metadata": {},
   "outputs": [
    {
     "data": {
      "text/plain": [
       "<matplotlib.collections.PathCollection at 0x7f98f08757f0>"
      ]
     },
     "execution_count": 64,
     "metadata": {},
     "output_type": "execute_result"
    },
    {
     "data": {
      "image/png": "[encoded data removed]",
      "text/plain": [
       "<matplotlib.figure.Figure at 0x7f98f0921048>"
      ]
     },
     "metadata": {},
     "output_type": "display_data"
    }
   ],
   "source": [
    "x_ = np.linspace(-1, 1, 30) # define axis\n",
    "\n",
    "pred_x = np.reshape(x_, [30, 1]) # [160, ] -> [160, 1]\n",
    "pred_y = regressor_4.predict(pred_x) # predict network output given x_\n",
    "fig = plt.figure() \n",
    "plt.scatter(x_, x_**2, color = 'r') # plot original function\n",
    "plt.scatter(pred_x, pred_y) # plot network output"
   ]
  },
  {
   "cell_type": "code",
   "execution_count": 49,
   "metadata": {},
   "outputs": [],
   "source": [
    "regressor_5 = MLPRegressor(solver='adam', activation='tanh',\n",
    "                          hidden_layer_sizes=(10,5), random_state=40, verbose=True)"
   ]
  },
  {
   "cell_type": "code",
   "execution_count": 50,
   "metadata": {},
   "outputs": [
    {
     "name": "stdout",
     "output_type": "stream",
     "text": [
      "Iteration 1, loss = 1.23763154\n",
      "Iteration 2, loss = 1.20946970\n",
      "Iteration 3, loss = 1.18165546\n",
      "Iteration 4, loss = 1.15418686\n",
      "Iteration 5, loss = 1.12706418\n",
      "Iteration 6, loss = 1.10029239\n",
      "Iteration 7, loss = 1.07387716\n",
      "Iteration 8, loss = 1.04782407\n",
      "Iteration 9, loss = 1.02213839\n",
      "Iteration 10, loss = 0.99682508\n",
      "Iteration 11, loss = 0.97188870\n",
      "Iteration 12, loss = 0.94733346\n",
      "Iteration 13, loss = 0.92316312\n",
      "Iteration 14, loss = 0.89938104\n",
      "Iteration 15, loss = 0.87599017\n",
      "Iteration 16, loss = 0.85299299\n",
      "Iteration 17, loss = 0.83039156\n",
      "Iteration 18, loss = 0.80818753\n",
      "Iteration 19, loss = 0.78638210\n",
      "Iteration 20, loss = 0.76497609\n",
      "Iteration 21, loss = 0.74396992\n",
      "Iteration 22, loss = 0.72336365\n",
      "Iteration 23, loss = 0.70315699\n",
      "Iteration 24, loss = 0.68334935\n",
      "Iteration 25, loss = 0.66393983\n",
      "Iteration 26, loss = 0.64492729\n",
      "Iteration 27, loss = 0.62631032\n",
      "Iteration 28, loss = 0.60808729\n",
      "Iteration 29, loss = 0.59025636\n",
      "Iteration 30, loss = 0.57281549\n",
      "Iteration 31, loss = 0.55576241\n",
      "Iteration 32, loss = 0.53909469\n",
      "Iteration 33, loss = 0.52280970\n",
      "Iteration 34, loss = 0.50690463\n",
      "Iteration 35, loss = 0.49137646\n",
      "Iteration 36, loss = 0.47622203\n",
      "Iteration 37, loss = 0.46143797\n",
      "Iteration 38, loss = 0.44702076\n",
      "Iteration 39, loss = 0.43296669\n",
      "Iteration 40, loss = 0.41927191\n",
      "Iteration 41, loss = 0.40593241\n",
      "Iteration 42, loss = 0.39294402\n",
      "Iteration 43, loss = 0.38030244\n",
      "Iteration 44, loss = 0.36800323\n",
      "Iteration 45, loss = 0.35604182\n",
      "Iteration 46, loss = 0.34441352\n",
      "Iteration 47, loss = 0.33311354\n",
      "Iteration 48, loss = 0.32213697\n",
      "Iteration 49, loss = 0.31147882\n",
      "Iteration 50, loss = 0.30113400\n",
      "Iteration 51, loss = 0.29109733\n",
      "Iteration 52, loss = 0.28136358\n",
      "Iteration 53, loss = 0.27192744\n",
      "Iteration 54, loss = 0.26278352\n",
      "Iteration 55, loss = 0.25392641\n",
      "Iteration 56, loss = 0.24535064\n",
      "Iteration 57, loss = 0.23705069\n",
      "Iteration 58, loss = 0.22902101\n",
      "Iteration 59, loss = 0.22125602\n",
      "Iteration 60, loss = 0.21375013\n",
      "Iteration 61, loss = 0.20649771\n",
      "Iteration 62, loss = 0.19949315\n",
      "Iteration 63, loss = 0.19273079\n",
      "Iteration 64, loss = 0.18620501\n",
      "Iteration 65, loss = 0.17991016\n",
      "Iteration 66, loss = 0.17384062\n",
      "Iteration 67, loss = 0.16799077\n",
      "Iteration 68, loss = 0.16235502\n",
      "Iteration 69, loss = 0.15692779\n",
      "Iteration 70, loss = 0.15170353\n",
      "Iteration 71, loss = 0.14667673\n",
      "Iteration 72, loss = 0.14184189\n",
      "Iteration 73, loss = 0.13719358\n",
      "Iteration 74, loss = 0.13272641\n",
      "Iteration 75, loss = 0.12843500\n",
      "Iteration 76, loss = 0.12431407\n",
      "Iteration 77, loss = 0.12035837\n",
      "Iteration 78, loss = 0.11656271\n",
      "Iteration 79, loss = 0.11292198\n",
      "Iteration 80, loss = 0.10943111\n",
      "Iteration 81, loss = 0.10608513\n",
      "Iteration 82, loss = 0.10287912\n",
      "Iteration 83, loss = 0.09980825\n",
      "Iteration 84, loss = 0.09686777\n",
      "Iteration 85, loss = 0.09405300\n",
      "Iteration 86, loss = 0.09135937\n",
      "Iteration 87, loss = 0.08878238\n",
      "Iteration 88, loss = 0.08631763\n",
      "Iteration 89, loss = 0.08396081\n",
      "Iteration 90, loss = 0.08170770\n",
      "Iteration 91, loss = 0.07955420\n",
      "Iteration 92, loss = 0.07749628\n",
      "Iteration 93, loss = 0.07553004\n",
      "Iteration 94, loss = 0.07365166\n",
      "Iteration 95, loss = 0.07185743\n",
      "Iteration 96, loss = 0.07014376\n",
      "Iteration 97, loss = 0.06850714\n",
      "Iteration 98, loss = 0.06694417\n",
      "Iteration 99, loss = 0.06545158\n",
      "Iteration 100, loss = 0.06402618\n",
      "Iteration 101, loss = 0.06266490\n",
      "Iteration 102, loss = 0.06136476\n",
      "Iteration 103, loss = 0.06012289\n",
      "Iteration 104, loss = 0.05893653\n",
      "Iteration 105, loss = 0.05780302\n",
      "Iteration 106, loss = 0.05671981\n",
      "Iteration 107, loss = 0.05568442\n",
      "Iteration 108, loss = 0.05469450\n",
      "Iteration 109, loss = 0.05374777\n",
      "Iteration 110, loss = 0.05284208\n",
      "Iteration 111, loss = 0.05197534\n",
      "Iteration 112, loss = 0.05114557\n",
      "Iteration 113, loss = 0.05035086\n",
      "Iteration 114, loss = 0.04958941\n",
      "Iteration 115, loss = 0.04885948\n",
      "Iteration 116, loss = 0.04815944\n",
      "Iteration 117, loss = 0.04748771\n",
      "Iteration 118, loss = 0.04684280\n",
      "Iteration 119, loss = 0.04622331\n",
      "Iteration 120, loss = 0.04562788\n",
      "Iteration 121, loss = 0.04505525\n",
      "Iteration 122, loss = 0.04450420\n",
      "Iteration 123, loss = 0.04397360\n",
      "Iteration 124, loss = 0.04346236\n",
      "Iteration 125, loss = 0.04296947\n",
      "Iteration 126, loss = 0.04249395\n",
      "Iteration 127, loss = 0.04203490\n",
      "Iteration 128, loss = 0.04159146\n",
      "Iteration 129, loss = 0.04116282\n",
      "Iteration 130, loss = 0.04074822\n",
      "Iteration 131, loss = 0.04034694\n",
      "Iteration 132, loss = 0.03995831\n",
      "Iteration 133, loss = 0.03958169\n",
      "Iteration 134, loss = 0.03921649\n",
      "Iteration 135, loss = 0.03886214\n",
      "Iteration 136, loss = 0.03851813\n",
      "Iteration 137, loss = 0.03818397\n",
      "Iteration 138, loss = 0.03785918\n",
      "Iteration 139, loss = 0.03754334\n",
      "Iteration 140, loss = 0.03723603\n",
      "Iteration 141, loss = 0.03693689\n",
      "Iteration 142, loss = 0.03664556\n",
      "Iteration 143, loss = 0.03636169\n",
      "Iteration 144, loss = 0.03608498\n",
      "Iteration 145, loss = 0.03581513\n",
      "Iteration 146, loss = 0.03555186\n",
      "Iteration 147, loss = 0.03529493\n",
      "Iteration 148, loss = 0.03504409\n",
      "Iteration 149, loss = 0.03479911\n",
      "Iteration 150, loss = 0.03455977\n",
      "Iteration 151, loss = 0.03432589\n",
      "Iteration 152, loss = 0.03409726\n",
      "Iteration 153, loss = 0.03387371\n",
      "Iteration 154, loss = 0.03365508\n",
      "Iteration 155, loss = 0.03344121\n",
      "Iteration 156, loss = 0.03323195\n",
      "Iteration 157, loss = 0.03302716\n",
      "Iteration 158, loss = 0.03282671\n",
      "Iteration 159, loss = 0.03263047\n",
      "Iteration 160, loss = 0.03243833\n",
      "Iteration 161, loss = 0.03225016\n",
      "Iteration 162, loss = 0.03206587\n",
      "Iteration 163, loss = 0.03188535\n",
      "Iteration 164, loss = 0.03170851\n",
      "Iteration 165, loss = 0.03153525\n",
      "Iteration 166, loss = 0.03136548\n",
      "Iteration 167, loss = 0.03119912\n",
      "Iteration 168, loss = 0.03103609\n",
      "Iteration 169, loss = 0.03087631\n",
      "Iteration 170, loss = 0.03071970\n",
      "Iteration 171, loss = 0.03056619\n",
      "Iteration 172, loss = 0.03041572\n",
      "Iteration 173, loss = 0.03026821\n",
      "Iteration 174, loss = 0.03012360\n",
      "Iteration 175, loss = 0.02998182\n",
      "Iteration 176, loss = 0.02984282\n",
      "Iteration 177, loss = 0.02970654\n",
      "Iteration 178, loss = 0.02957292\n",
      "Iteration 179, loss = 0.02944190\n",
      "Iteration 180, loss = 0.02931343\n",
      "Iteration 181, loss = 0.02918745\n",
      "Iteration 182, loss = 0.02906392\n",
      "Iteration 183, loss = 0.02894278\n",
      "Iteration 184, loss = 0.02882399\n",
      "Iteration 185, loss = 0.02870750\n",
      "Iteration 186, loss = 0.02859325\n",
      "Iteration 187, loss = 0.02848121\n",
      "Iteration 188, loss = 0.02837134\n",
      "Iteration 189, loss = 0.02826358\n",
      "Iteration 190, loss = 0.02815789\n",
      "Iteration 191, loss = 0.02805424\n",
      "Iteration 192, loss = 0.02795257\n",
      "Iteration 193, loss = 0.02785286\n",
      "Iteration 194, loss = 0.02775506\n",
      "Iteration 195, loss = 0.02765914\n",
      "Training loss did not improve more than tol=0.000100 for two consecutive epochs. Stopping.\n"
     ]
    },
    {
     "data": {
      "text/plain": [
       "MLPRegressor(activation='tanh', alpha=0.0001, batch_size='auto', beta_1=0.9,\n",
       "       beta_2=0.999, early_stopping=False, epsilon=1e-08,\n",
       "       hidden_layer_sizes=(10, 5), learning_rate='constant',\n",
       "       learning_rate_init=0.001, max_iter=200, momentum=0.9,\n",
       "       nesterovs_momentum=True, power_t=0.5, random_state=40, shuffle=True,\n",
       "       solver='adam', tol=0.0001, validation_fraction=0.1, verbose=True,\n",
       "       warm_start=False)"
      ]
     },
     "execution_count": 50,
     "metadata": {},
     "output_type": "execute_result"
    }
   ],
   "source": [
    "regressor_5.fit(X_train, y_train)"
   ]
  },
  {
   "cell_type": "code",
   "execution_count": 51,
   "metadata": {},
   "outputs": [
    {
     "data": {
      "text/plain": [
       "[<matplotlib.lines.Line2D at 0x7f98f0e40c88>]"
      ]
     },
     "execution_count": 51,
     "metadata": {},
     "output_type": "execute_result"
    },
    {
     "data": {
      "image/png": "[encoded data removed]",
      "text/plain": [
       "<matplotlib.figure.Figure at 0x7f98f0e0b550>"
      ]
     },
     "metadata": {},
     "output_type": "display_data"
    }
   ],
   "source": [
    "x_ = np.linspace(-1, 1, 160) # define axis\n",
    "\n",
    "pred_x = np.reshape(x_, [160, 1]) # [160, ] -> [160, 1]\n",
    "pred_y = regressor_5.predict(pred_x) # predict network output given x_\n",
    "fig = plt.figure() \n",
    "plt.plot(x_, x_**2, color = 'r') # plot original function\n",
    "plt.plot(pred_x, pred_y, '-') # plot network output"
   ]
  },
  {
   "cell_type": "code",
   "execution_count": null,
   "metadata": {},
   "outputs": [],
   "source": []
  }
 ],
 "metadata": {
  "kernelspec": {
   "display_name": "Python 3",
   "language": "python",
   "name": "python3"
  },
  "language_info": {
   "codemirror_mode": {
    "name": "ipython",
    "version": 3
   },
   "file_extension": ".py",
   "mimetype": "text/x-python",
   "name": "python",
   "nbconvert_exporter": "python",
   "pygments_lexer": "ipython3",
   "version": "3.6.4"
  }
 },
 "nbformat": 4,
 "nbformat_minor": 2
}
