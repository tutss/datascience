{
 "cells": [
  {
   "cell_type": "code",
   "execution_count": 1,
   "metadata": {},
   "outputs": [],
   "source": [
    "%store -r import_all_libs"
   ]
  },
  {
   "cell_type": "code",
   "execution_count": 2,
   "metadata": {},
   "outputs": [],
   "source": [
    "import_all_libs"
   ]
  },
  {
   "cell_type": "code",
   "execution_count": 3,
   "metadata": {},
   "outputs": [],
   "source": [
    "df = pd.read_csv('../data/df_clean.csv')\n",
    "df_br = pd.read_csv('../data/df_brazil.csv')"
   ]
  },
  {
   "cell_type": "code",
   "execution_count": 4,
   "metadata": {},
   "outputs": [
    {
     "data": {
      "text/html": [
       "<div>\n",
       "<style scoped>\n",
       "    .dataframe tbody tr th:only-of-type {\n",
       "        vertical-align: middle;\n",
       "    }\n",
       "\n",
       "    .dataframe tbody tr th {\n",
       "        vertical-align: top;\n",
       "    }\n",
       "\n",
       "    .dataframe thead th {\n",
       "        text-align: right;\n",
       "    }\n",
       "</style>\n",
       "<table border=\"1\" class=\"dataframe\">\n",
       "  <thead>\n",
       "    <tr style=\"text-align: right;\">\n",
       "      <th></th>\n",
       "      <th>added_at</th>\n",
       "      <th>album_name</th>\n",
       "      <th>track_number</th>\n",
       "      <th>artists</th>\n",
       "      <th>name</th>\n",
       "      <th>popularity</th>\n",
       "      <th>danceability</th>\n",
       "      <th>energy</th>\n",
       "      <th>key</th>\n",
       "      <th>loudness</th>\n",
       "      <th>mode</th>\n",
       "      <th>speechiness</th>\n",
       "      <th>acousticness</th>\n",
       "      <th>instrumentalness</th>\n",
       "      <th>liveness</th>\n",
       "      <th>valence</th>\n",
       "      <th>tempo</th>\n",
       "      <th>type</th>\n",
       "      <th>duration_ms</th>\n",
       "      <th>time_signature</th>\n",
       "      <th>playlist_name</th>\n",
       "      <th>playlist_description</th>\n",
       "    </tr>\n",
       "  </thead>\n",
       "  <tbody>\n",
       "    <tr>\n",
       "      <th>0</th>\n",
       "      <td>2021-03-13T15:01:00Z</td>\n",
       "      <td>NU</td>\n",
       "      <td>1</td>\n",
       "      <td>[['Djonga', '204IwDdaHE4ymGk9Kya2pY'], ['Nagal...</td>\n",
       "      <td>Nós</td>\n",
       "      <td>67</td>\n",
       "      <td>0.70</td>\n",
       "      <td>0.82</td>\n",
       "      <td>10</td>\n",
       "      <td>-5.20</td>\n",
       "      <td>0</td>\n",
       "      <td>0.54</td>\n",
       "      <td>0.10</td>\n",
       "      <td>0.00</td>\n",
       "      <td>0.08</td>\n",
       "      <td>0.58</td>\n",
       "      <td>86.77</td>\n",
       "      <td>audio_features</td>\n",
       "      <td>193800</td>\n",
       "      <td>4</td>\n",
       "      <td>RAPública</td>\n",
       "      <td>Ouça o melhor do hip hop nacional. Foto: Djonga</td>\n",
       "    </tr>\n",
       "    <tr>\n",
       "      <th>1</th>\n",
       "      <td>2021-03-13T15:01:00Z</td>\n",
       "      <td>Mds</td>\n",
       "      <td>1</td>\n",
       "      <td>[['Kawe', '1TYJOhNSxMOODWiDVhuyZb'], ['Mc Lele...</td>\n",
       "      <td>Mds</td>\n",
       "      <td>84</td>\n",
       "      <td>0.89</td>\n",
       "      <td>0.56</td>\n",
       "      <td>6</td>\n",
       "      <td>-5.33</td>\n",
       "      <td>1</td>\n",
       "      <td>0.25</td>\n",
       "      <td>0.26</td>\n",
       "      <td>0.00</td>\n",
       "      <td>0.12</td>\n",
       "      <td>0.64</td>\n",
       "      <td>140.02</td>\n",
       "      <td>audio_features</td>\n",
       "      <td>125143</td>\n",
       "      <td>4</td>\n",
       "      <td>RAPública</td>\n",
       "      <td>Ouça o melhor do hip hop nacional. Foto: Djonga</td>\n",
       "    </tr>\n",
       "    <tr>\n",
       "      <th>2</th>\n",
       "      <td>2021-03-13T15:01:00Z</td>\n",
       "      <td>Para todas as mulheres que já rimei</td>\n",
       "      <td>1</td>\n",
       "      <td>[['BIN', '1WXbiUMl1AT9Inb619xPUg'], ['Borges',...</td>\n",
       "      <td>Quase uma Semana</td>\n",
       "      <td>73</td>\n",
       "      <td>0.81</td>\n",
       "      <td>0.77</td>\n",
       "      <td>1</td>\n",
       "      <td>-5.70</td>\n",
       "      <td>0</td>\n",
       "      <td>0.08</td>\n",
       "      <td>0.10</td>\n",
       "      <td>0.00</td>\n",
       "      <td>0.06</td>\n",
       "      <td>0.80</td>\n",
       "      <td>122.06</td>\n",
       "      <td>audio_features</td>\n",
       "      <td>259672</td>\n",
       "      <td>4</td>\n",
       "      <td>RAPública</td>\n",
       "      <td>Ouça o melhor do hip hop nacional. Foto: Djonga</td>\n",
       "    </tr>\n",
       "    <tr>\n",
       "      <th>3</th>\n",
       "      <td>2021-03-13T15:01:00Z</td>\n",
       "      <td>Nada é pra sempre</td>\n",
       "      <td>1</td>\n",
       "      <td>[['L7NNON', '0JjPiLQNgAFaEkwoy56B1C']]</td>\n",
       "      <td>Nada é pra sempre</td>\n",
       "      <td>62</td>\n",
       "      <td>0.72</td>\n",
       "      <td>0.48</td>\n",
       "      <td>0</td>\n",
       "      <td>-10.25</td>\n",
       "      <td>1</td>\n",
       "      <td>0.08</td>\n",
       "      <td>0.19</td>\n",
       "      <td>0.00</td>\n",
       "      <td>0.05</td>\n",
       "      <td>0.37</td>\n",
       "      <td>95.06</td>\n",
       "      <td>audio_features</td>\n",
       "      <td>229928</td>\n",
       "      <td>4</td>\n",
       "      <td>RAPública</td>\n",
       "      <td>Ouça o melhor do hip hop nacional. Foto: Djonga</td>\n",
       "    </tr>\n",
       "    <tr>\n",
       "      <th>4</th>\n",
       "      <td>2021-03-13T15:01:00Z</td>\n",
       "      <td>Lance Criminoso (feat. BK)</td>\n",
       "      <td>1</td>\n",
       "      <td>[['Papatinho', '0iZz25uH5PLaShpqq84uYv'], ['Xa...</td>\n",
       "      <td>Lance Criminoso (feat. BK)</td>\n",
       "      <td>65</td>\n",
       "      <td>0.57</td>\n",
       "      <td>0.65</td>\n",
       "      <td>0</td>\n",
       "      <td>-6.70</td>\n",
       "      <td>0</td>\n",
       "      <td>0.48</td>\n",
       "      <td>0.27</td>\n",
       "      <td>0.00</td>\n",
       "      <td>0.12</td>\n",
       "      <td>0.69</td>\n",
       "      <td>81.34</td>\n",
       "      <td>audio_features</td>\n",
       "      <td>234098</td>\n",
       "      <td>5</td>\n",
       "      <td>RAPública</td>\n",
       "      <td>Ouça o melhor do hip hop nacional. Foto: Djonga</td>\n",
       "    </tr>\n",
       "  </tbody>\n",
       "</table>\n",
       "</div>"
      ],
      "text/plain": [
       "               added_at                           album_name  track_number  \\\n",
       "0  2021-03-13T15:01:00Z                                   NU             1   \n",
       "1  2021-03-13T15:01:00Z                                  Mds             1   \n",
       "2  2021-03-13T15:01:00Z  Para todas as mulheres que já rimei             1   \n",
       "3  2021-03-13T15:01:00Z                    Nada é pra sempre             1   \n",
       "4  2021-03-13T15:01:00Z           Lance Criminoso (feat. BK)             1   \n",
       "\n",
       "                                             artists  \\\n",
       "0  [['Djonga', '204IwDdaHE4ymGk9Kya2pY'], ['Nagal...   \n",
       "1  [['Kawe', '1TYJOhNSxMOODWiDVhuyZb'], ['Mc Lele...   \n",
       "2  [['BIN', '1WXbiUMl1AT9Inb619xPUg'], ['Borges',...   \n",
       "3             [['L7NNON', '0JjPiLQNgAFaEkwoy56B1C']]   \n",
       "4  [['Papatinho', '0iZz25uH5PLaShpqq84uYv'], ['Xa...   \n",
       "\n",
       "                         name  popularity  danceability  energy  key  \\\n",
       "0                         Nós          67          0.70    0.82   10   \n",
       "1                         Mds          84          0.89    0.56    6   \n",
       "2            Quase uma Semana          73          0.81    0.77    1   \n",
       "3           Nada é pra sempre          62          0.72    0.48    0   \n",
       "4  Lance Criminoso (feat. BK)          65          0.57    0.65    0   \n",
       "\n",
       "   loudness  mode  speechiness  acousticness  instrumentalness  liveness  \\\n",
       "0     -5.20     0         0.54          0.10              0.00      0.08   \n",
       "1     -5.33     1         0.25          0.26              0.00      0.12   \n",
       "2     -5.70     0         0.08          0.10              0.00      0.06   \n",
       "3    -10.25     1         0.08          0.19              0.00      0.05   \n",
       "4     -6.70     0         0.48          0.27              0.00      0.12   \n",
       "\n",
       "   valence  tempo            type  duration_ms  time_signature playlist_name  \\\n",
       "0     0.58  86.77  audio_features       193800               4     RAPública   \n",
       "1     0.64 140.02  audio_features       125143               4     RAPública   \n",
       "2     0.80 122.06  audio_features       259672               4     RAPública   \n",
       "3     0.37  95.06  audio_features       229928               4     RAPública   \n",
       "4     0.69  81.34  audio_features       234098               5     RAPública   \n",
       "\n",
       "                              playlist_description  \n",
       "0  Ouça o melhor do hip hop nacional. Foto: Djonga  \n",
       "1  Ouça o melhor do hip hop nacional. Foto: Djonga  \n",
       "2  Ouça o melhor do hip hop nacional. Foto: Djonga  \n",
       "3  Ouça o melhor do hip hop nacional. Foto: Djonga  \n",
       "4  Ouça o melhor do hip hop nacional. Foto: Djonga  "
      ]
     },
     "execution_count": 4,
     "metadata": {},
     "output_type": "execute_result"
    }
   ],
   "source": [
    "df.head()"
   ]
  },
  {
   "cell_type": "code",
   "execution_count": 7,
   "metadata": {},
   "outputs": [],
   "source": [
    "inf_cols = [\n",
    "    'danceability', 'energy', 'loudness', 'speechiness', 'acousticness', 'instrumentalness', 'liveness', 'tempo', 'duration_ms'\n",
    "]\n",
    "\n",
    "X = df[inf_cols]\n",
    "y = df.popularity\n",
    "\n",
    "X_norm = (X-X.mean())/X.std()\n",
    "y_norm = (y-y.mean())/y.std()"
   ]
  },
  {
   "cell_type": "code",
   "execution_count": 8,
   "metadata": {},
   "outputs": [],
   "source": [
    "X_train, X_test, y_train, y_test = train_test_split(X_norm, y_norm, test_size=.3, shuffle=True)"
   ]
  },
  {
   "cell_type": "code",
   "execution_count": 13,
   "metadata": {},
   "outputs": [],
   "source": [
    "ridge = Ridge()\n",
    "forest = RandomForestRegressor(n_estimators=500)"
   ]
  },
  {
   "cell_type": "code",
   "execution_count": 14,
   "metadata": {},
   "outputs": [
    {
     "data": {
      "text/plain": [
       "RandomForestRegressor(n_estimators=500)"
      ]
     },
     "execution_count": 14,
     "metadata": {},
     "output_type": "execute_result"
    }
   ],
   "source": [
    "ridge.fit(X_train, y_train)\n",
    "forest.fit(X_train, y_train)"
   ]
  },
  {
   "cell_type": "code",
   "execution_count": 15,
   "metadata": {},
   "outputs": [],
   "source": [
    "ridge_pred = ridge.predict(X_test)\n",
    "forest_pred = forest.predict(X_test)"
   ]
  },
  {
   "cell_type": "code",
   "execution_count": 16,
   "metadata": {},
   "outputs": [
    {
     "name": "stdout",
     "output_type": "stream",
     "text": [
      "Ridge: 0.9879096768156718\n",
      "Forest: 0.7560374525134971\n"
     ]
    }
   ],
   "source": [
    "print(f'Ridge: {mean_squared_error(y_test, ridge_pred)}')\n",
    "print(f'Forest: {mean_squared_error(y_test, forest_pred)}')"
   ]
  },
  {
   "cell_type": "code",
   "execution_count": null,
   "metadata": {},
   "outputs": [],
   "source": []
  }
 ],
 "metadata": {
  "kernelspec": {
   "display_name": "Python 3 (ipykernel)",
   "language": "python",
   "name": "python3"
  },
  "language_info": {
   "codemirror_mode": {
    "name": "ipython",
    "version": 3
   },
   "file_extension": ".py",
   "mimetype": "text/x-python",
   "name": "python",
   "nbconvert_exporter": "python",
   "pygments_lexer": "ipython3",
   "version": "3.9.7"
  }
 },
 "nbformat": 4,
 "nbformat_minor": 4
}
