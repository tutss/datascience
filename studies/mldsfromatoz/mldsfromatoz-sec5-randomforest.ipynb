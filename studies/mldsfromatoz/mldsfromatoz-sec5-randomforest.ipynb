{
 "cells": [
  {
   "cell_type": "code",
   "execution_count": 3,
   "id": "71ea9496",
   "metadata": {},
   "outputs": [],
   "source": [
    "import pickle\n",
    "\n",
    "import pandas as pd\n",
    "import numpy as np\n",
    "import seaborn as sns\n",
    "import matplotlib.pyplot as plt\n",
    "import plotly.express as px\n",
    "from yellowbrick.classifier import ConfusionMatrix\n",
    "\n",
    "from sklearn.preprocessing import LabelEncoder, OneHotEncoder\n",
    "from sklearn.tree import DecisionTreeClassifier, ExtraTreeClassifier\n",
    "from sklearn.tree import plot_tree\n",
    "from sklearn.model_selection import train_test_split\n",
    "\n",
    "from sklearn.ensemble import RandomForestClassifier\n",
    "\n",
    "from sklearn.metrics import accuracy_score, confusion_matrix, precision_score, recall_score, classification_report"
   ]
  },
  {
   "cell_type": "markdown",
   "id": "24c2335f",
   "metadata": {},
   "source": [
    "## Credit data"
   ]
  },
  {
   "cell_type": "code",
   "execution_count": 4,
   "id": "8671fb19",
   "metadata": {},
   "outputs": [],
   "source": [
    "with open('credit_data_X.npy', 'rb') as f:\n",
    "    X = np.load(f)\n",
    "\n",
    "with open('credit_data_y.npy', 'rb') as f:\n",
    "    y = np.load(f)\n",
    "    \n",
    "X_tr, X_t, y_tr, y_t = train_test_split(X, y, test_size=0.2)"
   ]
  },
  {
   "cell_type": "code",
   "execution_count": 7,
   "id": "b20af67e",
   "metadata": {},
   "outputs": [
    {
     "data": {
      "text/plain": [
       "((1600, 3), (400, 3))"
      ]
     },
     "execution_count": 7,
     "metadata": {},
     "output_type": "execute_result"
    }
   ],
   "source": [
    "X_tr.shape, X_t.shape"
   ]
  },
  {
   "cell_type": "code",
   "execution_count": 8,
   "id": "6ad020b7",
   "metadata": {},
   "outputs": [
    {
     "data": {
      "text/plain": [
       "((1600, 1), (400, 1))"
      ]
     },
     "execution_count": 8,
     "metadata": {},
     "output_type": "execute_result"
    }
   ],
   "source": [
    "y_tr.shape, y_t.shape"
   ]
  },
  {
   "cell_type": "code",
   "execution_count": 9,
   "id": "7feaccad",
   "metadata": {},
   "outputs": [
    {
     "name": "stderr",
     "output_type": "stream",
     "text": [
      "/tmp/ipykernel_8982/1666803979.py:3: DataConversionWarning: A column-vector y was passed when a 1d array was expected. Please change the shape of y to (n_samples,), for example using ravel().\n",
      "  rf.fit(X_tr, y_tr)\n"
     ]
    },
    {
     "data": {
      "text/plain": [
       "RandomForestClassifier(criterion='entropy', n_estimators=500)"
      ]
     },
     "execution_count": 9,
     "metadata": {},
     "output_type": "execute_result"
    }
   ],
   "source": [
    "rf = RandomForestClassifier(n_estimators=500, criterion='entropy')\n",
    "\n",
    "rf.fit(X_tr, y_tr)"
   ]
  },
  {
   "cell_type": "code",
   "execution_count": 11,
   "id": "03204322",
   "metadata": {},
   "outputs": [
    {
     "name": "stdout",
     "output_type": "stream",
     "text": [
      "              precision    recall  f1-score   support\n",
      "\n",
      "           0       0.98      0.99      0.99       337\n",
      "           1       0.96      0.87      0.92        63\n",
      "\n",
      "    accuracy                           0.97       400\n",
      "   macro avg       0.97      0.93      0.95       400\n",
      "weighted avg       0.97      0.97      0.97       400\n",
      "\n"
     ]
    }
   ],
   "source": [
    "y_pred = rf.predict(X_t)\n",
    "\n",
    "print(classification_report(y_t, y_pred))"
   ]
  },
  {
   "cell_type": "code",
   "execution_count": 13,
   "id": "495f22b8",
   "metadata": {},
   "outputs": [
    {
     "data": {
      "image/png": "[encoded data removed]",
      "text/plain": [
       "<Figure size 576x396 with 2 Axes>"
      ]
     },
     "metadata": {},
     "output_type": "display_data"
    }
   ],
   "source": [
    "sns.heatmap(confusion_matrix(y_t, y_pred), annot=True, fmt='.2f', cmap='viridis');"
   ]
  },
  {
   "cell_type": "markdown",
   "id": "ff09342d",
   "metadata": {},
   "source": [
    "## Census"
   ]
  },
  {
   "cell_type": "code",
   "execution_count": 15,
   "id": "c1ddb680",
   "metadata": {},
   "outputs": [],
   "source": [
    "with open('/home/tuts/data/mldsfromatoz/census.pkl', 'rb') as f:\n",
    "    X_tr, y_tr, X_t, y_t = pickle.load(f)"
   ]
  },
  {
   "cell_type": "code",
   "execution_count": 16,
   "id": "818abe0d",
   "metadata": {},
   "outputs": [
    {
     "data": {
      "text/plain": [
       "((27676, 108), (4885, 108))"
      ]
     },
     "execution_count": 16,
     "metadata": {},
     "output_type": "execute_result"
    }
   ],
   "source": [
    "X_tr.shape, X_t.shape"
   ]
  },
  {
   "cell_type": "code",
   "execution_count": 17,
   "id": "6c5e4a40",
   "metadata": {},
   "outputs": [],
   "source": [
    "rf_c = RandomForestClassifier(n_estimators=500, criterion='entropy', random_state=42)"
   ]
  },
  {
   "cell_type": "code",
   "execution_count": 18,
   "id": "8a1e010a",
   "metadata": {},
   "outputs": [
    {
     "data": {
      "text/plain": [
       "RandomForestClassifier(criterion='entropy', n_estimators=500, random_state=42)"
      ]
     },
     "execution_count": 18,
     "metadata": {},
     "output_type": "execute_result"
    }
   ],
   "source": [
    "rf_c.fit(X_tr, y_tr)"
   ]
  },
  {
   "cell_type": "code",
   "execution_count": 19,
   "id": "d14bc00b",
   "metadata": {},
   "outputs": [],
   "source": [
    "y_pred = rf_c.predict(X_t)"
   ]
  },
  {
   "cell_type": "code",
   "execution_count": 21,
   "id": "d47342b3",
   "metadata": {},
   "outputs": [
    {
     "name": "stdout",
     "output_type": "stream",
     "text": [
      "              precision    recall  f1-score   support\n",
      "\n",
      "       <=50K    0.88121   0.92201   0.90115      3693\n",
      "        >50K    0.71792   0.61493   0.66245      1192\n",
      "\n",
      "    accuracy                        0.84708      4885\n",
      "   macro avg    0.79957   0.76847   0.78180      4885\n",
      "weighted avg    0.84137   0.84708   0.84291      4885\n",
      "\n"
     ]
    }
   ],
   "source": [
    "print(classification_report(y_t, y_pred, digits=5))"
   ]
  },
  {
   "cell_type": "code",
   "execution_count": 22,
   "id": "f0cdf7be",
   "metadata": {},
   "outputs": [
    {
     "data": {
      "image/png": "[encoded data removed]",
      "text/plain": [
       "<Figure size 576x396 with 2 Axes>"
      ]
     },
     "metadata": {},
     "output_type": "display_data"
    }
   ],
   "source": [
    "sns.heatmap(confusion_matrix(y_t, y_pred), annot=True, fmt='.2f', cmap='viridis');"
   ]
  },
  {
   "cell_type": "code",
   "execution_count": 23,
   "id": "cfd59648",
   "metadata": {},
   "outputs": [
    {
     "data": {
      "text/plain": [
       "0.8470829068577277"
      ]
     },
     "execution_count": 23,
     "metadata": {},
     "output_type": "execute_result"
    },
    {
     "data": {
      "image/png": "[encoded data removed]",
      "text/plain": [
       "<Figure size 576x396 with 1 Axes>"
      ]
     },
     "metadata": {},
     "output_type": "display_data"
    }
   ],
   "source": [
    "cm = ConfusionMatrix(rf_c)\n",
    "cm.fit(X_tr, y_tr)\n",
    "cm.score(X_t, y_t)"
   ]
  },
  {
   "cell_type": "code",
   "execution_count": null,
   "id": "dec50d5e",
   "metadata": {},
   "outputs": [],
   "source": []
  }
 ],
 "metadata": {
  "kernelspec": {
   "display_name": "Python 3 (ipykernel)",
   "language": "python",
   "name": "python3"
  },
  "language_info": {
   "codemirror_mode": {
    "name": "ipython",
    "version": 3
   },
   "file_extension": ".py",
   "mimetype": "text/x-python",
   "name": "python",
   "nbconvert_exporter": "python",
   "pygments_lexer": "ipython3",
   "version": "3.9.7"
  }
 },
 "nbformat": 4,
 "nbformat_minor": 5
}
