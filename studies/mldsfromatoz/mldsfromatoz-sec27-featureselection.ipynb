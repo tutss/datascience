{
 "cells": [
  {
   "cell_type": "code",
   "execution_count": 25,
   "id": "8ac9a208",
   "metadata": {},
   "outputs": [],
   "source": [
    "import pickle\n",
    "\n",
    "import pandas as pd\n",
    "import numpy as np\n",
    "import seaborn as sns\n",
    "import matplotlib.pyplot as plt\n",
    "import plotly.express as px\n",
    "from yellowbrick.classifier import ConfusionMatrix\n",
    "\n",
    "from sklearn.preprocessing import LabelEncoder, OneHotEncoder, MinMaxScaler\n",
    "from sklearn.tree import DecisionTreeClassifier, ExtraTreeClassifier\n",
    "from sklearn.tree import plot_tree\n",
    "from sklearn.model_selection import train_test_split\n",
    "from sklearn.ensemble import RandomForestClassifier, ExtraTreesClassifier\n",
    "\n",
    "from sklearn.metrics import accuracy_score, confusion_matrix, precision_score, recall_score, classification_report"
   ]
  },
  {
   "cell_type": "code",
   "execution_count": 2,
   "id": "e2150001",
   "metadata": {},
   "outputs": [],
   "source": [
    "from sklearn.feature_selection import VarianceThreshold, RFE"
   ]
  },
  {
   "cell_type": "markdown",
   "id": "86bc88f7",
   "metadata": {},
   "source": [
    "### Preprocessing"
   ]
  },
  {
   "cell_type": "code",
   "execution_count": 3,
   "id": "dae6726d",
   "metadata": {},
   "outputs": [],
   "source": [
    "census = pd.read_csv('/home/tuts/data/mldsfromatoz/census.csv')"
   ]
  },
  {
   "cell_type": "code",
   "execution_count": 4,
   "id": "8143b281",
   "metadata": {},
   "outputs": [],
   "source": [
    "X_cols = list(census.columns)\n",
    "X_cols.remove(\"income\")"
   ]
  },
  {
   "cell_type": "code",
   "execution_count": 5,
   "id": "9b11abdd",
   "metadata": {},
   "outputs": [],
   "source": [
    "X = census[X_cols]\n",
    "y = census.income"
   ]
  },
  {
   "cell_type": "markdown",
   "id": "24f85c78",
   "metadata": {},
   "source": [
    "#### Encoding"
   ]
  },
  {
   "cell_type": "code",
   "execution_count": 6,
   "id": "0180d9eb",
   "metadata": {},
   "outputs": [
    {
     "name": "stderr",
     "output_type": "stream",
     "text": [
      "/tmp/ipykernel_9495/1146228957.py:7: SettingWithCopyWarning: \n",
      "A value is trying to be set on a copy of a slice from a DataFrame.\n",
      "Try using .loc[row_indexer,col_indexer] = value instead\n",
      "\n",
      "See the caveats in the documentation: https://pandas.pydata.org/pandas-docs/stable/user_guide/indexing.html#returning-a-view-versus-a-copy\n",
      "  df[col] = l.transform(df[col])\n"
     ]
    },
    {
     "data": {
      "text/plain": [
       "[LabelEncoder(),\n",
       " LabelEncoder(),\n",
       " LabelEncoder(),\n",
       " LabelEncoder(),\n",
       " LabelEncoder(),\n",
       " LabelEncoder(),\n",
       " LabelEncoder(),\n",
       " LabelEncoder(),\n",
       " LabelEncoder(),\n",
       " LabelEncoder(),\n",
       " LabelEncoder(),\n",
       " LabelEncoder(),\n",
       " LabelEncoder(),\n",
       " LabelEncoder()]"
      ]
     },
     "execution_count": 6,
     "metadata": {},
     "output_type": "execute_result"
    }
   ],
   "source": [
    "def encode_cols(df):\n",
    "    encoders = list()\n",
    "    for col in df.columns:\n",
    "        l = LabelEncoder()\n",
    "        l.fit(df[col])\n",
    "        encoders.append(l)\n",
    "        df[col] = l.transform(df[col])\n",
    "    return encoders\n",
    "\n",
    "\n",
    "encode_cols(X)"
   ]
  },
  {
   "cell_type": "markdown",
   "id": "0033880c",
   "metadata": {},
   "source": [
    "#### Scaling"
   ]
  },
  {
   "cell_type": "code",
   "execution_count": 7,
   "id": "d2ec4843",
   "metadata": {},
   "outputs": [],
   "source": [
    "mnmx = MinMaxScaler()\n",
    "X_scaled = mnmx.fit_transform(X)"
   ]
  },
  {
   "cell_type": "markdown",
   "id": "4e3fcd7b",
   "metadata": {},
   "source": [
    "### Feature selection with variance"
   ]
  },
  {
   "cell_type": "code",
   "execution_count": 8,
   "id": "86ee8cb2",
   "metadata": {},
   "outputs": [
    {
     "data": {
      "text/html": [
       "<div>\n",
       "<style scoped>\n",
       "    .dataframe tbody tr th:only-of-type {\n",
       "        vertical-align: middle;\n",
       "    }\n",
       "\n",
       "    .dataframe tbody tr th {\n",
       "        vertical-align: top;\n",
       "    }\n",
       "\n",
       "    .dataframe thead th {\n",
       "        text-align: right;\n",
       "    }\n",
       "</style>\n",
       "<table border=\"1\" class=\"dataframe\">\n",
       "  <thead>\n",
       "    <tr style=\"text-align: right;\">\n",
       "      <th></th>\n",
       "      <th>0</th>\n",
       "      <th>1</th>\n",
       "      <th>2</th>\n",
       "      <th>3</th>\n",
       "      <th>4</th>\n",
       "      <th>5</th>\n",
       "      <th>6</th>\n",
       "      <th>7</th>\n",
       "      <th>8</th>\n",
       "      <th>9</th>\n",
       "      <th>10</th>\n",
       "      <th>11</th>\n",
       "      <th>12</th>\n",
       "      <th>13</th>\n",
       "    </tr>\n",
       "  </thead>\n",
       "  <tbody>\n",
       "    <tr>\n",
       "      <th>count</th>\n",
       "      <td>32561.000000</td>\n",
       "      <td>32561.000000</td>\n",
       "      <td>32561.000000</td>\n",
       "      <td>32561.000000</td>\n",
       "      <td>32561.000000</td>\n",
       "      <td>32561.000000</td>\n",
       "      <td>32561.000000</td>\n",
       "      <td>32561.000000</td>\n",
       "      <td>32561.000000</td>\n",
       "      <td>32561.000000</td>\n",
       "      <td>32561.000000</td>\n",
       "      <td>32561.000000</td>\n",
       "      <td>32561.000000</td>\n",
       "      <td>32561.000000</td>\n",
       "    </tr>\n",
       "    <tr>\n",
       "      <th>mean</th>\n",
       "      <td>0.299727</td>\n",
       "      <td>0.483612</td>\n",
       "      <td>0.485005</td>\n",
       "      <td>0.686547</td>\n",
       "      <td>0.605379</td>\n",
       "      <td>0.435306</td>\n",
       "      <td>0.469481</td>\n",
       "      <td>0.289272</td>\n",
       "      <td>0.916464</td>\n",
       "      <td>0.669205</td>\n",
       "      <td>0.055095</td>\n",
       "      <td>0.022564</td>\n",
       "      <td>0.423419</td>\n",
       "      <td>0.895582</td>\n",
       "    </tr>\n",
       "    <tr>\n",
       "      <th>std</th>\n",
       "      <td>0.189382</td>\n",
       "      <td>0.181995</td>\n",
       "      <td>0.279437</td>\n",
       "      <td>0.258018</td>\n",
       "      <td>0.171515</td>\n",
       "      <td>0.251037</td>\n",
       "      <td>0.302061</td>\n",
       "      <td>0.321354</td>\n",
       "      <td>0.212201</td>\n",
       "      <td>0.470506</td>\n",
       "      <td>0.197460</td>\n",
       "      <td>0.110512</td>\n",
       "      <td>0.130581</td>\n",
       "      <td>0.190824</td>\n",
       "    </tr>\n",
       "    <tr>\n",
       "      <th>min</th>\n",
       "      <td>0.000000</td>\n",
       "      <td>0.000000</td>\n",
       "      <td>0.000000</td>\n",
       "      <td>0.000000</td>\n",
       "      <td>0.000000</td>\n",
       "      <td>0.000000</td>\n",
       "      <td>0.000000</td>\n",
       "      <td>0.000000</td>\n",
       "      <td>0.000000</td>\n",
       "      <td>0.000000</td>\n",
       "      <td>0.000000</td>\n",
       "      <td>0.000000</td>\n",
       "      <td>0.000000</td>\n",
       "      <td>0.000000</td>\n",
       "    </tr>\n",
       "    <tr>\n",
       "      <th>25%</th>\n",
       "      <td>0.152778</td>\n",
       "      <td>0.500000</td>\n",
       "      <td>0.249272</td>\n",
       "      <td>0.600000</td>\n",
       "      <td>0.533333</td>\n",
       "      <td>0.333333</td>\n",
       "      <td>0.214286</td>\n",
       "      <td>0.000000</td>\n",
       "      <td>1.000000</td>\n",
       "      <td>0.000000</td>\n",
       "      <td>0.000000</td>\n",
       "      <td>0.000000</td>\n",
       "      <td>0.419355</td>\n",
       "      <td>0.951220</td>\n",
       "    </tr>\n",
       "    <tr>\n",
       "      <th>50%</th>\n",
       "      <td>0.277778</td>\n",
       "      <td>0.500000</td>\n",
       "      <td>0.478034</td>\n",
       "      <td>0.733333</td>\n",
       "      <td>0.600000</td>\n",
       "      <td>0.333333</td>\n",
       "      <td>0.500000</td>\n",
       "      <td>0.200000</td>\n",
       "      <td>1.000000</td>\n",
       "      <td>1.000000</td>\n",
       "      <td>0.000000</td>\n",
       "      <td>0.000000</td>\n",
       "      <td>0.419355</td>\n",
       "      <td>0.951220</td>\n",
       "    </tr>\n",
       "    <tr>\n",
       "      <th>75%</th>\n",
       "      <td>0.430556</td>\n",
       "      <td>0.500000</td>\n",
       "      <td>0.715434</td>\n",
       "      <td>0.800000</td>\n",
       "      <td>0.733333</td>\n",
       "      <td>0.666667</td>\n",
       "      <td>0.714286</td>\n",
       "      <td>0.600000</td>\n",
       "      <td>1.000000</td>\n",
       "      <td>1.000000</td>\n",
       "      <td>0.000000</td>\n",
       "      <td>0.000000</td>\n",
       "      <td>0.473118</td>\n",
       "      <td>0.951220</td>\n",
       "    </tr>\n",
       "    <tr>\n",
       "      <th>max</th>\n",
       "      <td>1.000000</td>\n",
       "      <td>1.000000</td>\n",
       "      <td>1.000000</td>\n",
       "      <td>1.000000</td>\n",
       "      <td>1.000000</td>\n",
       "      <td>1.000000</td>\n",
       "      <td>1.000000</td>\n",
       "      <td>1.000000</td>\n",
       "      <td>1.000000</td>\n",
       "      <td>1.000000</td>\n",
       "      <td>1.000000</td>\n",
       "      <td>1.000000</td>\n",
       "      <td>1.000000</td>\n",
       "      <td>1.000000</td>\n",
       "    </tr>\n",
       "  </tbody>\n",
       "</table>\n",
       "</div>"
      ],
      "text/plain": [
       "                 0             1             2             3             4   \\\n",
       "count  32561.000000  32561.000000  32561.000000  32561.000000  32561.000000   \n",
       "mean       0.299727      0.483612      0.485005      0.686547      0.605379   \n",
       "std        0.189382      0.181995      0.279437      0.258018      0.171515   \n",
       "min        0.000000      0.000000      0.000000      0.000000      0.000000   \n",
       "25%        0.152778      0.500000      0.249272      0.600000      0.533333   \n",
       "50%        0.277778      0.500000      0.478034      0.733333      0.600000   \n",
       "75%        0.430556      0.500000      0.715434      0.800000      0.733333   \n",
       "max        1.000000      1.000000      1.000000      1.000000      1.000000   \n",
       "\n",
       "                 5             6             7             8             9   \\\n",
       "count  32561.000000  32561.000000  32561.000000  32561.000000  32561.000000   \n",
       "mean       0.435306      0.469481      0.289272      0.916464      0.669205   \n",
       "std        0.251037      0.302061      0.321354      0.212201      0.470506   \n",
       "min        0.000000      0.000000      0.000000      0.000000      0.000000   \n",
       "25%        0.333333      0.214286      0.000000      1.000000      0.000000   \n",
       "50%        0.333333      0.500000      0.200000      1.000000      1.000000   \n",
       "75%        0.666667      0.714286      0.600000      1.000000      1.000000   \n",
       "max        1.000000      1.000000      1.000000      1.000000      1.000000   \n",
       "\n",
       "                 10            11            12            13  \n",
       "count  32561.000000  32561.000000  32561.000000  32561.000000  \n",
       "mean       0.055095      0.022564      0.423419      0.895582  \n",
       "std        0.197460      0.110512      0.130581      0.190824  \n",
       "min        0.000000      0.000000      0.000000      0.000000  \n",
       "25%        0.000000      0.000000      0.419355      0.951220  \n",
       "50%        0.000000      0.000000      0.419355      0.951220  \n",
       "75%        0.000000      0.000000      0.473118      0.951220  \n",
       "max        1.000000      1.000000      1.000000      1.000000  "
      ]
     },
     "execution_count": 8,
     "metadata": {},
     "output_type": "execute_result"
    }
   ],
   "source": [
    "pd.DataFrame(X_scaled).describe()"
   ]
  },
  {
   "cell_type": "code",
   "execution_count": 9,
   "id": "f60b1f0d",
   "metadata": {
    "scrolled": true
   },
   "outputs": [],
   "source": [
    "variances = pd.DataFrame(X_scaled).var()"
   ]
  },
  {
   "cell_type": "code",
   "execution_count": 10,
   "id": "c521536b",
   "metadata": {},
   "outputs": [
    {
     "data": {
      "text/plain": [
       "(32561, 6)"
      ]
     },
     "execution_count": 10,
     "metadata": {},
     "output_type": "execute_result"
    }
   ],
   "source": [
    "threshold = 0.05\n",
    "\n",
    "vt = VarianceThreshold(threshold=threshold)\n",
    "\n",
    "X_vtt = vt.fit_transform(X_scaled)\n",
    "\n",
    "X_vtt.shape"
   ]
  },
  {
   "cell_type": "code",
   "execution_count": 11,
   "id": "e76c4dc7",
   "metadata": {
    "scrolled": true
   },
   "outputs": [
    {
     "data": {
      "text/plain": [
       "array([0.03586443, 0.03312115, 0.07808264, 0.06657104, 0.02941639,\n",
       "       0.06301762, 0.09123817, 0.10326534, 0.04502805, 0.2213695 ,\n",
       "       0.03898928, 0.01221246, 0.0170508 , 0.03641266])"
      ]
     },
     "execution_count": 11,
     "metadata": {},
     "output_type": "execute_result"
    }
   ],
   "source": [
    "vt.variances_"
   ]
  },
  {
   "cell_type": "code",
   "execution_count": 12,
   "id": "8df7113a",
   "metadata": {},
   "outputs": [
    {
     "data": {
      "text/plain": [
       "Index(['final-weight', 'education', 'marital-status', 'occupation',\n",
       "       'relationship', 'sex'],\n",
       "      dtype='object')"
      ]
     },
     "execution_count": 12,
     "metadata": {},
     "output_type": "execute_result"
    }
   ],
   "source": [
    "census.columns[np.where(vt.variances_ > threshold)]"
   ]
  },
  {
   "cell_type": "code",
   "execution_count": 13,
   "id": "0704d639",
   "metadata": {},
   "outputs": [
    {
     "data": {
      "text/html": [
       "<div>\n",
       "<style scoped>\n",
       "    .dataframe tbody tr th:only-of-type {\n",
       "        vertical-align: middle;\n",
       "    }\n",
       "\n",
       "    .dataframe tbody tr th {\n",
       "        vertical-align: top;\n",
       "    }\n",
       "\n",
       "    .dataframe thead th {\n",
       "        text-align: right;\n",
       "    }\n",
       "</style>\n",
       "<table border=\"1\" class=\"dataframe\">\n",
       "  <thead>\n",
       "    <tr style=\"text-align: right;\">\n",
       "      <th></th>\n",
       "      <th>final-weight</th>\n",
       "      <th>education</th>\n",
       "      <th>marital-status</th>\n",
       "      <th>occupation</th>\n",
       "      <th>relationship</th>\n",
       "      <th>sex</th>\n",
       "      <th>income</th>\n",
       "    </tr>\n",
       "  </thead>\n",
       "  <tbody>\n",
       "    <tr>\n",
       "      <th>0</th>\n",
       "      <td>77516</td>\n",
       "      <td>Bachelors</td>\n",
       "      <td>Never-married</td>\n",
       "      <td>Adm-clerical</td>\n",
       "      <td>Not-in-family</td>\n",
       "      <td>Male</td>\n",
       "      <td>&lt;=50K</td>\n",
       "    </tr>\n",
       "    <tr>\n",
       "      <th>1</th>\n",
       "      <td>83311</td>\n",
       "      <td>Bachelors</td>\n",
       "      <td>Married-civ-spouse</td>\n",
       "      <td>Exec-managerial</td>\n",
       "      <td>Husband</td>\n",
       "      <td>Male</td>\n",
       "      <td>&lt;=50K</td>\n",
       "    </tr>\n",
       "    <tr>\n",
       "      <th>2</th>\n",
       "      <td>215646</td>\n",
       "      <td>HS-grad</td>\n",
       "      <td>Divorced</td>\n",
       "      <td>Handlers-cleaners</td>\n",
       "      <td>Not-in-family</td>\n",
       "      <td>Male</td>\n",
       "      <td>&lt;=50K</td>\n",
       "    </tr>\n",
       "    <tr>\n",
       "      <th>3</th>\n",
       "      <td>234721</td>\n",
       "      <td>11th</td>\n",
       "      <td>Married-civ-spouse</td>\n",
       "      <td>Handlers-cleaners</td>\n",
       "      <td>Husband</td>\n",
       "      <td>Male</td>\n",
       "      <td>&lt;=50K</td>\n",
       "    </tr>\n",
       "    <tr>\n",
       "      <th>4</th>\n",
       "      <td>338409</td>\n",
       "      <td>Bachelors</td>\n",
       "      <td>Married-civ-spouse</td>\n",
       "      <td>Prof-specialty</td>\n",
       "      <td>Wife</td>\n",
       "      <td>Female</td>\n",
       "      <td>&lt;=50K</td>\n",
       "    </tr>\n",
       "    <tr>\n",
       "      <th>...</th>\n",
       "      <td>...</td>\n",
       "      <td>...</td>\n",
       "      <td>...</td>\n",
       "      <td>...</td>\n",
       "      <td>...</td>\n",
       "      <td>...</td>\n",
       "      <td>...</td>\n",
       "    </tr>\n",
       "    <tr>\n",
       "      <th>32556</th>\n",
       "      <td>257302</td>\n",
       "      <td>Assoc-acdm</td>\n",
       "      <td>Married-civ-spouse</td>\n",
       "      <td>Tech-support</td>\n",
       "      <td>Wife</td>\n",
       "      <td>Female</td>\n",
       "      <td>&lt;=50K</td>\n",
       "    </tr>\n",
       "    <tr>\n",
       "      <th>32557</th>\n",
       "      <td>154374</td>\n",
       "      <td>HS-grad</td>\n",
       "      <td>Married-civ-spouse</td>\n",
       "      <td>Machine-op-inspct</td>\n",
       "      <td>Husband</td>\n",
       "      <td>Male</td>\n",
       "      <td>&gt;50K</td>\n",
       "    </tr>\n",
       "    <tr>\n",
       "      <th>32558</th>\n",
       "      <td>151910</td>\n",
       "      <td>HS-grad</td>\n",
       "      <td>Widowed</td>\n",
       "      <td>Adm-clerical</td>\n",
       "      <td>Unmarried</td>\n",
       "      <td>Female</td>\n",
       "      <td>&lt;=50K</td>\n",
       "    </tr>\n",
       "    <tr>\n",
       "      <th>32559</th>\n",
       "      <td>201490</td>\n",
       "      <td>HS-grad</td>\n",
       "      <td>Never-married</td>\n",
       "      <td>Adm-clerical</td>\n",
       "      <td>Own-child</td>\n",
       "      <td>Male</td>\n",
       "      <td>&lt;=50K</td>\n",
       "    </tr>\n",
       "    <tr>\n",
       "      <th>32560</th>\n",
       "      <td>287927</td>\n",
       "      <td>HS-grad</td>\n",
       "      <td>Married-civ-spouse</td>\n",
       "      <td>Exec-managerial</td>\n",
       "      <td>Wife</td>\n",
       "      <td>Female</td>\n",
       "      <td>&gt;50K</td>\n",
       "    </tr>\n",
       "  </tbody>\n",
       "</table>\n",
       "<p>32561 rows × 7 columns</p>\n",
       "</div>"
      ],
      "text/plain": [
       "       final-weight    education       marital-status          occupation  \\\n",
       "0             77516    Bachelors        Never-married        Adm-clerical   \n",
       "1             83311    Bachelors   Married-civ-spouse     Exec-managerial   \n",
       "2            215646      HS-grad             Divorced   Handlers-cleaners   \n",
       "3            234721         11th   Married-civ-spouse   Handlers-cleaners   \n",
       "4            338409    Bachelors   Married-civ-spouse      Prof-specialty   \n",
       "...             ...          ...                  ...                 ...   \n",
       "32556        257302   Assoc-acdm   Married-civ-spouse        Tech-support   \n",
       "32557        154374      HS-grad   Married-civ-spouse   Machine-op-inspct   \n",
       "32558        151910      HS-grad              Widowed        Adm-clerical   \n",
       "32559        201490      HS-grad        Never-married        Adm-clerical   \n",
       "32560        287927      HS-grad   Married-civ-spouse     Exec-managerial   \n",
       "\n",
       "         relationship      sex  income  \n",
       "0       Not-in-family     Male   <=50K  \n",
       "1             Husband     Male   <=50K  \n",
       "2       Not-in-family     Male   <=50K  \n",
       "3             Husband     Male   <=50K  \n",
       "4                Wife   Female   <=50K  \n",
       "...               ...      ...     ...  \n",
       "32556            Wife   Female   <=50K  \n",
       "32557         Husband     Male    >50K  \n",
       "32558       Unmarried   Female   <=50K  \n",
       "32559       Own-child     Male   <=50K  \n",
       "32560            Wife   Female    >50K  \n",
       "\n",
       "[32561 rows x 7 columns]"
      ]
     },
     "execution_count": 13,
     "metadata": {},
     "output_type": "execute_result"
    }
   ],
   "source": [
    "census_filtered = census.drop(\n",
    "    columns=census.columns[np.where(vt.variances_ < threshold)], \n",
    "    axis=1\n",
    ")\n",
    "\n",
    "census_filtered"
   ]
  },
  {
   "cell_type": "code",
   "execution_count": 14,
   "id": "c043b12c",
   "metadata": {},
   "outputs": [
    {
     "data": {
      "text/plain": [
       "[LabelEncoder(),\n",
       " LabelEncoder(),\n",
       " LabelEncoder(),\n",
       " LabelEncoder(),\n",
       " LabelEncoder(),\n",
       " LabelEncoder(),\n",
       " LabelEncoder()]"
      ]
     },
     "execution_count": 14,
     "metadata": {},
     "output_type": "execute_result"
    }
   ],
   "source": [
    "encode_cols(census_filtered)"
   ]
  },
  {
   "cell_type": "code",
   "execution_count": 15,
   "id": "e088bea4",
   "metadata": {},
   "outputs": [],
   "source": [
    "y = census_filtered.income"
   ]
  },
  {
   "cell_type": "code",
   "execution_count": 17,
   "id": "9687d25a",
   "metadata": {},
   "outputs": [],
   "source": [
    "Xcf = pd.get_dummies(census_filtered.drop('income', axis=1))\n",
    "Xcf_scaled = mnmx.fit_transform(Xcf)\n",
    "Xcf_tr, Xcf_t, ycf_tr, ycf_t = train_test_split(Xcf_scaled, y, random_state=42, test_size=.2)\n",
    "\n",
    "X_tr, X_t, y_tr, y_t = train_test_split(X_scaled, y, random_state=42, test_size=.2)"
   ]
  },
  {
   "cell_type": "code",
   "execution_count": 21,
   "id": "b5f7e866",
   "metadata": {},
   "outputs": [],
   "source": [
    "rf = RandomForestClassifier(criterion='entropy', n_estimators=500)\n",
    "rf.fit(Xcf_tr, ycf_tr)\n",
    "preds_cf = rf.predict(Xcf_t)\n",
    "\n",
    "rf = RandomForestClassifier(criterion='entropy', n_estimators=500)\n",
    "rf.fit(X_tr, y_tr)\n",
    "preds = rf.predict(X_t)"
   ]
  },
  {
   "cell_type": "code",
   "execution_count": 23,
   "id": "a7c07a19",
   "metadata": {},
   "outputs": [
    {
     "name": "stdout",
     "output_type": "stream",
     "text": [
      "              precision    recall  f1-score   support\n",
      "\n",
      "           0       0.85      0.87      0.86      4942\n",
      "           1       0.56      0.52      0.54      1571\n",
      "\n",
      "    accuracy                           0.79      6513\n",
      "   macro avg       0.70      0.69      0.70      6513\n",
      "weighted avg       0.78      0.79      0.78      6513\n",
      "\n"
     ]
    }
   ],
   "source": [
    "print(classification_report(ycf_t, preds_cf))"
   ]
  },
  {
   "cell_type": "code",
   "execution_count": 24,
   "id": "243af9d8",
   "metadata": {},
   "outputs": [
    {
     "name": "stdout",
     "output_type": "stream",
     "text": [
      "              precision    recall  f1-score   support\n",
      "\n",
      "           0       0.89      0.93      0.91      4942\n",
      "           1       0.75      0.64      0.69      1571\n",
      "\n",
      "    accuracy                           0.86      6513\n",
      "   macro avg       0.82      0.79      0.80      6513\n",
      "weighted avg       0.86      0.86      0.86      6513\n",
      "\n"
     ]
    }
   ],
   "source": [
    "print(classification_report(y_t, preds))"
   ]
  },
  {
   "cell_type": "markdown",
   "id": "51df4318",
   "metadata": {},
   "source": [
    "### Feature selection with Feature Importance (RF)"
   ]
  },
  {
   "cell_type": "code",
   "execution_count": 26,
   "id": "bee40706",
   "metadata": {},
   "outputs": [],
   "source": [
    "ext = ExtraTreesClassifier()\n",
    "ext.fit(X_scaled, y)\n",
    "\n",
    "feature_importances = ext.feature_importances_"
   ]
  },
  {
   "cell_type": "code",
   "execution_count": 28,
   "id": "f057bb34",
   "metadata": {},
   "outputs": [
    {
     "data": {
      "text/plain": [
       "array([0.14914589, 0.04387814, 0.15786988, 0.0355435 , 0.08393635,\n",
       "       0.07367383, 0.07414015, 0.08624416, 0.01484926, 0.02682048,\n",
       "       0.11057877, 0.03392403, 0.09210386, 0.01729171])"
      ]
     },
     "execution_count": 28,
     "metadata": {},
     "output_type": "execute_result"
    }
   ],
   "source": [
    "feature_importances"
   ]
  },
  {
   "cell_type": "code",
   "execution_count": 32,
   "id": "d736e444",
   "metadata": {},
   "outputs": [
    {
     "data": {
      "image/png": "[encoded data removed]",
      "text/plain": [
       "<Figure size 576x396 with 1 Axes>"
      ]
     },
     "metadata": {},
     "output_type": "display_data"
    }
   ],
   "source": [
    "plt.bar(x=range(len(feature_importances)), height=feature_importances);"
   ]
  },
  {
   "cell_type": "code",
   "execution_count": 45,
   "id": "15633824",
   "metadata": {},
   "outputs": [
    {
     "data": {
      "text/plain": [
       "[0, 1, 2, 4, 5, 6, 7, 10, 12]"
      ]
     },
     "execution_count": 45,
     "metadata": {},
     "output_type": "execute_result"
    }
   ],
   "source": [
    "list(np.where(feature_importances > 0.04)[0])"
   ]
  },
  {
   "cell_type": "code",
   "execution_count": 47,
   "id": "dff51854",
   "metadata": {},
   "outputs": [],
   "source": [
    "X_ext_filt = X_scaled[:, list(np.where(feature_importances > 0.04)[0])]"
   ]
  },
  {
   "cell_type": "code",
   "execution_count": null,
   "id": "868a639d",
   "metadata": {},
   "outputs": [],
   "source": []
  }
 ],
 "metadata": {
  "kernelspec": {
   "display_name": "Python 3 (ipykernel)",
   "language": "python",
   "name": "python3"
  },
  "language_info": {
   "codemirror_mode": {
    "name": "ipython",
    "version": 3
   },
   "file_extension": ".py",
   "mimetype": "text/x-python",
   "name": "python",
   "nbconvert_exporter": "python",
   "pygments_lexer": "ipython3",
   "version": "3.9.7"
  }
 },
 "nbformat": 4,
 "nbformat_minor": 5
}
