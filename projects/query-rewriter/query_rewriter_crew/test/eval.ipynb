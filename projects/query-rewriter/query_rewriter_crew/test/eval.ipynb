{
 "cells": [
  {
   "cell_type": "code",
   "execution_count": 176,
   "metadata": {},
   "outputs": [],
   "source": [
    "import pandas as pd\n",
    "import openai\n",
    "from dotenv import load_dotenv\n",
    "import os\n",
    "import re\n",
    "\n",
    "load_dotenv()\n",
    "\n",
    "openai.api_key = os.getenv(\"OPENAI_API_KEY\")\n",
    "pd.set_option('display.max_colwidth', None)\n",
    "\n",
    "def extract_answer_tag(text: str) -> str:\n",
    "    answer_match = re.search(r'<answer>(.*?)</answer>', text, re.DOTALL)\n",
    "    answer_content = answer_match.group(1) if answer_match else None\n",
    "    return answer_content"
   ]
  },
  {
   "cell_type": "code",
   "execution_count": 177,
   "metadata": {},
   "outputs": [],
   "source": [
    "SQL_EVALUATION_PROMPT = \"\"\"\n",
    "You are a SQL expert. You are given a SQL query and a expected answer.\n",
    "You need to evaluate if the SQL query is correct and if it answers the question.\n",
    "You need to return a boolean value.\n",
    "\"\"\"\n",
    "\n",
    "SQL_CORRECTNESS_PROMPT = \"\"\"\n",
    "You are a SQL expert. You are given 2 results from a SQL query. One corresponds to the\n",
    "gold query results, which are meant to be the truth. The other corresponds to another\n",
    "query results.\n",
    "You need to evaluate if the results from this other query is correct, meaning, if they\n",
    "output the same results in terms of content. Even if they differ by commas, parenthesis\n",
    "or other characters, you need to evaluate the actual content.\n",
    "You need to return a boolean value.\n",
    "\"\"\"\n",
    "\n",
    "\n",
    "def call_gpt_api_to_check_query(sql_query, expected_answer, model=\"gpt-3.5-turbo\"):\n",
    "    prompt = \"\"\"\n",
    "    SQL query: {sql_query}\n",
    "    Expected answer: {expected_answer}\n",
    "\n",
    "    Return only the boolean value. In enclosed tags like <answer>true</answer> or <answer>false</answer>.\n",
    "    \"\"\"\n",
    "    prompt = prompt.format(sql_query=sql_query, expected_answer=expected_answer)\n",
    "    response = openai.chat.completions.create(\n",
    "        model=model,\n",
    "        messages=[\n",
    "            {\"role\": \"system\", \"content\": SQL_EVALUATION_PROMPT},\n",
    "            {\"role\": \"user\", \"content\": prompt}\n",
    "        ]\n",
    "    )\n",
    "    return response.choices[0].message.content\n",
    "\n",
    "def call_gpt_api_to_check_query_answer(sql_query_results, expected_query_answer, model=\"gpt-3.5-turbo\"):\n",
    "    prompt = \"\"\"\n",
    "    SQL query results: {sql_query}\n",
    "    Gold query answer: {expected_answer}\n",
    "\n",
    "    Return only the boolean value. In enclosed tags like <answer>true</answer> or <answer>false</answer>.\n",
    "    \"\"\"\n",
    "    prompt = prompt.format(sql_query=sql_query_results, expected_answer=expected_query_answer)\n",
    "    response = openai.chat.completions.create(\n",
    "        model=model,\n",
    "        messages=[\n",
    "            {\"role\": \"system\", \"content\": SQL_CORRECTNESS_PROMPT},\n",
    "            {\"role\": \"user\", \"content\": prompt}\n",
    "        ]\n",
    "    )\n",
    "    return response.choices[0].message.content"
   ]
  },
  {
   "cell_type": "code",
   "execution_count": 178,
   "metadata": {},
   "outputs": [],
   "source": [
    "test_type = 'spider-style'"
   ]
  },
  {
   "cell_type": "code",
   "execution_count": 179,
   "metadata": {},
   "outputs": [],
   "source": [
    "df = pd.read_csv(f'{test_type}/test_file_results_1_agent_only.csv')\n",
    "\n",
    "# df.head()"
   ]
  },
  {
   "cell_type": "code",
   "execution_count": 182,
   "metadata": {},
   "outputs": [],
   "source": [
    "df['llm_query'] = df['llm_query'].str.replace('\\n', ' ')\n",
    "# df['llm_query'] = df['llm_query'].str.lower()\n",
    "df['gold_sql'] = df['gold_sql'].str.replace('\\n', ' ')\n",
    "# df['expected_query'] = df['expected_query'].str.lower()"
   ]
  },
  {
   "cell_type": "code",
   "execution_count": 183,
   "metadata": {},
   "outputs": [],
   "source": [
    "# df = pd.read_csv('exercise-3/test_file_results_auditor.csv', dtype={'auditor_answer': str, 'auditor_query_results_answer': str})\n",
    "# df.head()"
   ]
  },
  {
   "cell_type": "code",
   "execution_count": 184,
   "metadata": {},
   "outputs": [],
   "source": [
    "# df.head(20)"
   ]
  },
  {
   "cell_type": "code",
   "execution_count": 185,
   "metadata": {},
   "outputs": [],
   "source": [
    "auditor_answers = []\n",
    "for i, item in df.iterrows():\n",
    "    sql_query = item['llm_query']\n",
    "    expected_answer = item['gold_sql']\n",
    "    result = call_gpt_api_to_check_query(sql_query, expected_answer)\n",
    "    auditor_answers.append(result)\n",
    "\n",
    "df['auditor_answer'] = auditor_answers\n",
    "df.auditor_answer = df.auditor_answer.apply(lambda x: extract_answer_tag(x))\n",
    "df.to_csv(f'{test_type}/test_file_results_auditor_1_agent_only.csv', index=False)"
   ]
  },
  {
   "cell_type": "code",
   "execution_count": 186,
   "metadata": {},
   "outputs": [],
   "source": [
    "# df.head()"
   ]
  },
  {
   "cell_type": "code",
   "execution_count": 187,
   "metadata": {},
   "outputs": [
    {
     "data": {
      "text/plain": [
       "auditor_answer\n",
       "true     18\n",
       "false     9\n",
       "Name: count, dtype: int64"
      ]
     },
     "execution_count": 187,
     "metadata": {},
     "output_type": "execute_result"
    }
   ],
   "source": [
    "df.auditor_answer.value_counts()"
   ]
  },
  {
   "cell_type": "code",
   "execution_count": 188,
   "metadata": {},
   "outputs": [
    {
     "data": {
      "text/plain": [
       "auditor_answer\n",
       "true     66.666667\n",
       "false    33.333333\n",
       "Name: proportion, dtype: float64"
      ]
     },
     "execution_count": 188,
     "metadata": {},
     "output_type": "execute_result"
    }
   ],
   "source": [
    "df.auditor_answer.value_counts(normalize=True) * 100"
   ]
  },
  {
   "cell_type": "code",
   "execution_count": 189,
   "metadata": {},
   "outputs": [],
   "source": [
    "# df.iloc[10]"
   ]
  },
  {
   "cell_type": "code",
   "execution_count": 190,
   "metadata": {},
   "outputs": [],
   "source": [
    "# call_gpt_api_to_check_query_answer(df.iloc[10].llm_query_raw_results, df.iloc[10].expected_query_raw_results)"
   ]
  },
  {
   "cell_type": "code",
   "execution_count": 191,
   "metadata": {},
   "outputs": [],
   "source": [
    "# df.iloc[15]"
   ]
  },
  {
   "cell_type": "code",
   "execution_count": 192,
   "metadata": {},
   "outputs": [],
   "source": [
    "# call_gpt_api_to_check_query_answer(df.iloc[15].llm_query_raw_results, df.iloc[15].expected_query_raw_results)"
   ]
  },
  {
   "cell_type": "code",
   "execution_count": 193,
   "metadata": {},
   "outputs": [],
   "source": [
    "auditor_query_answers = []\n",
    "for i, item in df.iterrows():\n",
    "    sql_query = item['llm_executed_query_results']\n",
    "    expected_answer = item['gold_sql_results']\n",
    "    result = call_gpt_api_to_check_query_answer(sql_query, expected_answer)\n",
    "    auditor_query_answers.append(result)\n",
    "\n",
    "df['auditor_query_results_answer'] = auditor_query_answers\n",
    "df.auditor_query_results_answer = df.auditor_query_results_answer.apply(lambda x: extract_answer_tag(x))\n",
    "df.to_csv(f'{test_type}/test_file_results_auditor_1_agent_only.csv', index=False)"
   ]
  },
  {
   "cell_type": "code",
   "execution_count": 194,
   "metadata": {},
   "outputs": [],
   "source": [
    "# df.head()"
   ]
  },
  {
   "cell_type": "code",
   "execution_count": 195,
   "metadata": {},
   "outputs": [
    {
     "data": {
      "text/plain": [
       "auditor_query_results_answer\n",
       "true     19\n",
       "false     8\n",
       "Name: count, dtype: int64"
      ]
     },
     "execution_count": 195,
     "metadata": {},
     "output_type": "execute_result"
    }
   ],
   "source": [
    "df.auditor_query_results_answer.value_counts()"
   ]
  },
  {
   "cell_type": "code",
   "execution_count": 196,
   "metadata": {},
   "outputs": [
    {
     "data": {
      "text/plain": [
       "auditor_query_results_answer\n",
       "true     70.37037\n",
       "false    29.62963\n",
       "Name: proportion, dtype: float64"
      ]
     },
     "execution_count": 196,
     "metadata": {},
     "output_type": "execute_result"
    }
   ],
   "source": [
    "df.auditor_query_results_answer.value_counts(normalize=True) * 100"
   ]
  },
  {
   "cell_type": "code",
   "execution_count": 149,
   "metadata": {},
   "outputs": [],
   "source": [
    "# df.head()"
   ]
  },
  {
   "cell_type": "code",
   "execution_count": 197,
   "metadata": {},
   "outputs": [
    {
     "data": {
      "image/png": "[encoded data removed]",
      "text/plain": [
       "<Figure size 800x600 with 1 Axes>"
      ]
     },
     "metadata": {},
     "output_type": "display_data"
    }
   ],
   "source": [
    "import matplotlib.pyplot as plt\n",
    "\n",
    "plt.style.use('ggplot')\n",
    "\n",
    "value_counts = df.auditor_answer.value_counts()\n",
    "percentages = df.auditor_answer.value_counts(normalize=True) * 100\n",
    "\n",
    "plt.figure(figsize=(8, 6))\n",
    "bars = plt.bar(value_counts.index, value_counts.values)\n",
    "\n",
    "for bar, percentage in zip(bars, percentages):\n",
    "    height = bar.get_height()\n",
    "    plt.text(bar.get_x() + bar.get_width()/2., height,\n",
    "             f'{percentage:.1f}%',\n",
    "             ha='center', va='bottom')\n",
    "\n",
    "\n",
    "plt.title('Queries geradas correspondentes as corretas')\n",
    "# plt.xlabel('Corret')\n",
    "plt.ylabel('N')\n",
    "plt.tight_layout()\n",
    "\n",
    "plt.show()"
   ]
  },
  {
   "cell_type": "code",
   "execution_count": 198,
   "metadata": {},
   "outputs": [
    {
     "data": {
      "image/png": "[encoded data removed]",
      "text/plain": [
       "<Figure size 800x600 with 1 Axes>"
      ]
     },
     "metadata": {},
     "output_type": "display_data"
    }
   ],
   "source": [
    "value_counts = df.auditor_query_results_answer.value_counts()\n",
    "percentages = df.auditor_query_results_answer.value_counts(normalize=True) * 100\n",
    "\n",
    "\n",
    "plt.figure(figsize=(8, 6))\n",
    "bars = plt.bar(value_counts.index, value_counts.values)\n",
    "\n",
    "for bar, percentage in zip(bars, percentages):\n",
    "    height = bar.get_height()\n",
    "    plt.text(bar.get_x() + bar.get_width()/2., height,\n",
    "             f'{percentage:.1f}%',\n",
    "             ha='center', va='bottom')\n",
    "\n",
    "\n",
    "plt.title('Respostas das consultas geradas correspondentes as corretas')\n",
    "# plt.xlabel('Corret')\n",
    "plt.ylabel('N')\n",
    "plt.tight_layout()\n",
    "\n",
    "plt.show()"
   ]
  },
  {
   "cell_type": "code",
   "execution_count": 152,
   "metadata": {},
   "outputs": [
    {
     "data": {
      "text/plain": [
       "1"
      ]
     },
     "execution_count": 152,
     "metadata": {},
     "output_type": "execute_result"
    }
   ],
   "source": [
    "1"
   ]
  },
  {
   "cell_type": "code",
   "execution_count": null,
   "metadata": {},
   "outputs": [],
   "source": []
  }
 ],
 "metadata": {
  "kernelspec": {
   "display_name": "AI Env",
   "language": "python",
   "name": "ai"
  },
  "language_info": {
   "codemirror_mode": {
    "name": "ipython",
    "version": 3
   },
   "file_extension": ".py",
   "mimetype": "text/x-python",
   "name": "python",
   "nbconvert_exporter": "python",
   "pygments_lexer": "ipython3",
   "version": "3.10.16"
  }
 },
 "nbformat": 4,
 "nbformat_minor": 2
}
