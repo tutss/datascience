{
 "cells": [
  {
   "cell_type": "code",
   "execution_count": 99,
   "metadata": {},
   "outputs": [],
   "source": [
    "import pandas as pd\n",
    "import openai\n",
    "from dotenv import load_dotenv\n",
    "import os\n",
    "import re\n",
    "\n",
    "load_dotenv()\n",
    "\n",
    "openai.api_key = os.getenv(\"OPENAI_API_KEY\")\n",
    "pd.set_option('display.max_colwidth', None)\n",
    "\n",
    "def extract_answer_tag(text: str) -> str:\n",
    "    answer_match = re.search(r'<answer>(.*?)</answer>', text, re.DOTALL)\n",
    "    answer_content = answer_match.group(1) if answer_match else None\n",
    "    return answer_content"
   ]
  },
  {
   "cell_type": "code",
   "execution_count": 100,
   "metadata": {},
   "outputs": [],
   "source": [
    "SQL_EVALUATION_PROMPT = \"\"\"\n",
    "You are a SQL expert. You are given a SQL query and a expected answer.\n",
    "You need to evaluate if the SQL query is correct and if it answers the question.\n",
    "You need to return a boolean value.\n",
    "\"\"\"\n",
    "\n",
    "SQL_CORRECTNESS_PROMPT = \"\"\"\n",
    "You are a SQL expert. You are given 2 results from a SQL query. One corresponds to the\n",
    "gold query results, which are meant to be the truth. The other corresponds to another\n",
    "query results.\n",
    "You need to evaluate if the results from this other query is correct, meaning, if they\n",
    "output the same results in terms of content. Even if they differ by commas, parenthesis\n",
    "or other characters, you need to evaluate the actual content.\n",
    "You need to return a boolean value.\n",
    "\"\"\"\n",
    "\n",
    "\n",
    "def call_gpt_api_to_check_query(sql_query, expected_answer, model=\"gpt-3.5-turbo\"):\n",
    "    prompt = \"\"\"\n",
    "    SQL query: {sql_query}\n",
    "    Expected answer: {expected_answer}\n",
    "\n",
    "    Return only the boolean value. In enclosed tags like <answer>true</answer> or <answer>false</answer>.\n",
    "    \"\"\"\n",
    "    prompt = prompt.format(sql_query=sql_query, expected_answer=expected_answer)\n",
    "    response = openai.chat.completions.create(\n",
    "        model=model,\n",
    "        messages=[\n",
    "            {\"role\": \"system\", \"content\": SQL_EVALUATION_PROMPT},\n",
    "            {\"role\": \"user\", \"content\": prompt}\n",
    "        ]\n",
    "    )\n",
    "    return response.choices[0].message.content\n",
    "\n",
    "def call_gpt_api_to_check_query_answer(sql_query_results, expected_query_answer, model=\"gpt-3.5-turbo\"):\n",
    "    prompt = \"\"\"\n",
    "    SQL query results: {sql_query}\n",
    "    Gold query answer: {expected_answer}\n",
    "\n",
    "    Return only the boolean value. In enclosed tags like <answer>true</answer> or <answer>false</answer>.\n",
    "    \"\"\"\n",
    "    prompt = prompt.format(sql_query=sql_query_results, expected_answer=expected_query_answer)\n",
    "    response = openai.chat.completions.create(\n",
    "        model=model,\n",
    "        messages=[\n",
    "            {\"role\": \"system\", \"content\": SQL_CORRECTNESS_PROMPT},\n",
    "            {\"role\": \"user\", \"content\": prompt}\n",
    "        ]\n",
    "    )\n",
    "    return response.choices[0].message.content"
   ]
  },
  {
   "cell_type": "code",
   "execution_count": 101,
   "metadata": {},
   "outputs": [],
   "source": [
    "test_type = 'students-exercise'"
   ]
  },
  {
   "cell_type": "code",
   "execution_count": 102,
   "metadata": {},
   "outputs": [
    {
     "data": {
      "text/html": [
       "<div>\n",
       "<style scoped>\n",
       "    .dataframe tbody tr th:only-of-type {\n",
       "        vertical-align: middle;\n",
       "    }\n",
       "\n",
       "    .dataframe tbody tr th {\n",
       "        vertical-align: top;\n",
       "    }\n",
       "\n",
       "    .dataframe thead th {\n",
       "        text-align: right;\n",
       "    }\n",
       "</style>\n",
       "<table border=\"1\" class=\"dataframe\">\n",
       "  <thead>\n",
       "    <tr style=\"text-align: right;\">\n",
       "      <th></th>\n",
       "      <th>question</th>\n",
       "      <th>expected_query</th>\n",
       "      <th>llm_query</th>\n",
       "      <th>llm_executed_query_results</th>\n",
       "      <th>expected_query_results</th>\n",
       "    </tr>\n",
       "  </thead>\n",
       "  <tbody>\n",
       "    <tr>\n",
       "      <th>0</th>\n",
       "      <td>Encontre o nome de todos os Juniores (nível = JR) que estão matriculados em um curso ministrado por Ivana Teach.</td>\n",
       "      <td>select A.nomeAluno\\nfrom Aluno as A, Curso as C, Professor as P, Matriculado as M\\nwhere A.nivel='JR'\\nand P.nomeProf = 'Ivana Teach'\\nand C.idProf = P.idProf\\nand M.nomeCurso = C.nome\\nand M.nroAluno = A.nroAluno;</td>\n",
       "      <td>\\nSELECT DISTINCT a.nomealuno  \\nFROM aluno a  \\nJOIN matriculado m ON a.nroaluno = m.nroaluno  \\nJOIN curso c ON m.nomecurso = c.nome  \\nJOIN professor p ON c.idprof = p.idprof  \\nWHERE a.nivel = 'JR'  \\n  AND p.nomeprof = 'Ivana Teach';  \\n</td>\n",
       "      <td>Christopher Garcia, Paul Hall</td>\n",
       "      <td>Christopher Garcia, Paul Hall</td>\n",
       "    </tr>\n",
       "    <tr>\n",
       "      <th>1</th>\n",
       "      <td>Encontre o nome do aluno mais velho que é formado em History ou matriculado em um curso ministrado pelo Ivana Teach.</td>\n",
       "      <td>select nomeAluno\\nfrom Aluno\\nwhere formacao = 'History'\\nor nroAluno in (\\nselect A2.nroALuno\\nfrom Aluno as A2, Curso as C, Professor as P, Matriculado as M\\nwhere P.nomeProf = 'Ivana Teach'\\nand C.idProf = P.idProf\\nand M.nomeCurso = C.nome\\nand M.nroAluno = A2.nroAluno)\\nand idade &gt;= all (\\nselect A1.idade\\nfrom Aluno as A1\\nwhere A1.formacao = 'History' or\\n A1.nroAluno in (\\nselect A2.nroALuno\\nfrom Aluno as A2, Curso as C, Professor as P, Matriculado as M\\nwhere P.nomeProf = 'Ivana Teach'\\nand C.idProf = P.idProf\\nand M.nomeCurso = C.nome\\nand M.nroAluno = A2.nroAluno));</td>\n",
       "      <td>SELECT a.nomealuno\\nFROM aluno a\\nWHERE a.formacao = 'História'\\n   OR EXISTS (\\n       SELECT 1\\n       FROM matriculado m\\n       JOIN curso c ON m.nomecurso = c.nome\\n       JOIN professor p ON c.idprof = p.idprof\\n       WHERE m.nroaluno = a.nroaluno\\n         AND p.nomeprof = 'Ivana Teach'\\n   )\\nORDER BY a.idade DESC\\nLIMIT 1;</td>\n",
       "      <td>Christopher Garcia</td>\n",
       "      <td>Christopher Garcia, Angela Martinez</td>\n",
       "    </tr>\n",
       "    <tr>\n",
       "      <th>2</th>\n",
       "      <td>Encontre os nomes de todos os cursos que são ministrados na sala R128 ou que têm 3 ou mais alunos matriculados.</td>\n",
       "      <td>select nome\\nfrom Curso as C\\nwhere sala = 'R128' or\\n(select count(distinct nroAluno)\\n from Matriculado where nomeCurso = C.nome) &gt;= 3;</td>\n",
       "      <td>\\nSELECT nome AS course_name  \\nFROM curso  \\nWHERE sala = 'R128'  \\nUNION  \\nSELECT nomecurso AS course_name  \\nFROM matriculado  \\nGROUP BY nomecurso  \\nHAVING COUNT(nroaluno) &gt;= 3;  \\n</td>\n",
       "      <td>Operating System Design, Data Structures, Database Systems, Dairy Herd Management, Intoduction to Math, Patent Law, Archaeology of the Incas</td>\n",
       "      <td>Data Structures, Database Systems, Operating System Design, Archaeology of the Incas, Patent Law, Dairy Herd Management, Intoduction to Math</td>\n",
       "    </tr>\n",
       "    <tr>\n",
       "      <th>3</th>\n",
       "      <td>Encontre os nomes de todos os alunos que estão matriculados em dois cursos que são ministrados no mesmo horário.</td>\n",
       "      <td>select nomeAluno\\nfrom Aluno\\nwhere nroAluno in\\n(select M1.nroAluno\\nfrom Matriculado as M1, Matriculado as M2, Curso as C1, Curso as C2\\nwhere M1.nroAluno = M2.nroAluno\\nand M1.nomeCurso &lt;&gt; M2.nomeCurso\\nand M1.nomeCurso = C1.nome\\nand M2.nomeCurso = C2.nome\\nand C1.horario = C2.horario);</td>\n",
       "      <td>\\nSELECT DISTINCT a.nomealuno  \\nFROM aluno a  \\nJOIN matriculado m1 ON a.nroaluno = m1.nroaluno  \\nJOIN curso c1 ON m1.nomecurso = c1.nome  \\nJOIN matriculado m2 ON a.nroaluno = m2.nroaluno  \\nJOIN curso c2 ON m2.nomecurso = c2.nome  \\nWHERE c1.horario = c2.horario  \\n  AND c1.nome &lt;&gt; c2.nome;  \\n</td>\n",
       "      <td>Luis Hernandez</td>\n",
       "      <td>Luis Hernandez</td>\n",
       "    </tr>\n",
       "    <tr>\n",
       "      <th>4</th>\n",
       "      <td>Encontre os nomes dos professores para os quais a quantidade de alunos na lista de matriculados de ao menos um dos cursos que eles ministram é menor do que 2.</td>\n",
       "      <td>select nomeProf\\nfrom professor as P, curso as C\\nwhere P.idProf = C.idProf and\\n(select count(nroAluno) from Matriculado\\nwhere C.nome = nomeCurso) &lt; 2;</td>\n",
       "      <td>\\nSELECT p.nomeprof  \\nFROM professor p  \\nJOIN curso c ON p.idprof = c.idprof  \\nLEFT JOIN matriculado m ON c.nome = m.nomecurso  \\nGROUP BY p.idprof, p.nomeprof  \\nHAVING COUNT(DISTINCT m.nroaluno) &lt; 2;  \\n</td>\n",
       "      <td>John Williams, Elizabeth Taylor, Mary Johnson, William Moore, Barbara Wilson, Patricia Jones, Robert Brown, Jennifer Thomas</td>\n",
       "      <td>Linda Davis, Barbara Wilson, John Williams, John Williams, Barbara Wilson, Jennifer Thomas, William Moore, Richard Jackson, Elizabeth Taylor, Elizabeth Taylor, Richard Jackson, Richard Jackson, Richard Jackson, Richard Jackson, John Williams, Robert Brown, Mary Johnson, Patricia Jones, Richard Jackson</td>\n",
       "    </tr>\n",
       "  </tbody>\n",
       "</table>\n",
       "</div>"
      ],
      "text/plain": [
       "                                                                                                                                                         question  \\\n",
       "0                                                Encontre o nome de todos os Juniores (nível = JR) que estão matriculados em um curso ministrado por Ivana Teach.   \n",
       "1                                            Encontre o nome do aluno mais velho que é formado em History ou matriculado em um curso ministrado pelo Ivana Teach.   \n",
       "2                                                 Encontre os nomes de todos os cursos que são ministrados na sala R128 ou que têm 3 ou mais alunos matriculados.   \n",
       "3                                                Encontre os nomes de todos os alunos que estão matriculados em dois cursos que são ministrados no mesmo horário.   \n",
       "4  Encontre os nomes dos professores para os quais a quantidade de alunos na lista de matriculados de ao menos um dos cursos que eles ministram é menor do que 2.   \n",
       "\n",
       "                                                                                                                                                                                                                                                                                                                                                                                                                                                                                                                                                                                             expected_query  \\\n",
       "0                                                                                                                                                                                                                                                                                                                                                                                    select A.nomeAluno\\nfrom Aluno as A, Curso as C, Professor as P, Matriculado as M\\nwhere A.nivel='JR'\\nand P.nomeProf = 'Ivana Teach'\\nand C.idProf = P.idProf\\nand M.nomeCurso = C.nome\\nand M.nroAluno = A.nroAluno;   \n",
       "1  select nomeAluno\\nfrom Aluno\\nwhere formacao = 'History'\\nor nroAluno in (\\nselect A2.nroALuno\\nfrom Aluno as A2, Curso as C, Professor as P, Matriculado as M\\nwhere P.nomeProf = 'Ivana Teach'\\nand C.idProf = P.idProf\\nand M.nomeCurso = C.nome\\nand M.nroAluno = A2.nroAluno)\\nand idade >= all (\\nselect A1.idade\\nfrom Aluno as A1\\nwhere A1.formacao = 'History' or\\n A1.nroAluno in (\\nselect A2.nroALuno\\nfrom Aluno as A2, Curso as C, Professor as P, Matriculado as M\\nwhere P.nomeProf = 'Ivana Teach'\\nand C.idProf = P.idProf\\nand M.nomeCurso = C.nome\\nand M.nroAluno = A2.nroAluno));   \n",
       "2                                                                                                                                                                                                                                                                                                                                                                                                                                                                 select nome\\nfrom Curso as C\\nwhere sala = 'R128' or\\n(select count(distinct nroAluno)\\n from Matriculado where nomeCurso = C.nome) >= 3;   \n",
       "3                                                                                                                                                                                                                                                                                                       select nomeAluno\\nfrom Aluno\\nwhere nroAluno in\\n(select M1.nroAluno\\nfrom Matriculado as M1, Matriculado as M2, Curso as C1, Curso as C2\\nwhere M1.nroAluno = M2.nroAluno\\nand M1.nomeCurso <> M2.nomeCurso\\nand M1.nomeCurso = C1.nome\\nand M2.nomeCurso = C2.nome\\nand C1.horario = C2.horario);   \n",
       "4                                                                                                                                                                                                                                                                                                                                                                                                                                                 select nomeProf\\nfrom professor as P, curso as C\\nwhere P.idProf = C.idProf and\\n(select count(nroAluno) from Matriculado\\nwhere C.nome = nomeCurso) < 2;   \n",
       "\n",
       "                                                                                                                                                                                                                                                                                                                                        llm_query  \\\n",
       "0                                                                                              \\nSELECT DISTINCT a.nomealuno  \\nFROM aluno a  \\nJOIN matriculado m ON a.nroaluno = m.nroaluno  \\nJOIN curso c ON m.nomecurso = c.nome  \\nJOIN professor p ON c.idprof = p.idprof  \\nWHERE a.nivel = 'JR'  \\n  AND p.nomeprof = 'Ivana Teach';  \\n   \n",
       "1  SELECT a.nomealuno\\nFROM aluno a\\nWHERE a.formacao = 'História'\\n   OR EXISTS (\\n       SELECT 1\\n       FROM matriculado m\\n       JOIN curso c ON m.nomecurso = c.nome\\n       JOIN professor p ON c.idprof = p.idprof\\n       WHERE m.nroaluno = a.nroaluno\\n         AND p.nomeprof = 'Ivana Teach'\\n   )\\nORDER BY a.idade DESC\\nLIMIT 1;   \n",
       "2                                                                                                                                                     \\nSELECT nome AS course_name  \\nFROM curso  \\nWHERE sala = 'R128'  \\nUNION  \\nSELECT nomecurso AS course_name  \\nFROM matriculado  \\nGROUP BY nomecurso  \\nHAVING COUNT(nroaluno) >= 3;  \\n   \n",
       "3                                     \\nSELECT DISTINCT a.nomealuno  \\nFROM aluno a  \\nJOIN matriculado m1 ON a.nroaluno = m1.nroaluno  \\nJOIN curso c1 ON m1.nomecurso = c1.nome  \\nJOIN matriculado m2 ON a.nroaluno = m2.nroaluno  \\nJOIN curso c2 ON m2.nomecurso = c2.nome  \\nWHERE c1.horario = c2.horario  \\n  AND c1.nome <> c2.nome;  \\n   \n",
       "4                                                                                                                                \\nSELECT p.nomeprof  \\nFROM professor p  \\nJOIN curso c ON p.idprof = c.idprof  \\nLEFT JOIN matriculado m ON c.nome = m.nomecurso  \\nGROUP BY p.idprof, p.nomeprof  \\nHAVING COUNT(DISTINCT m.nroaluno) < 2;  \\n   \n",
       "\n",
       "                                                                                                                     llm_executed_query_results  \\\n",
       "0                                                                                                                 Christopher Garcia, Paul Hall   \n",
       "1                                                                                                                            Christopher Garcia   \n",
       "2  Operating System Design, Data Structures, Database Systems, Dairy Herd Management, Intoduction to Math, Patent Law, Archaeology of the Incas   \n",
       "3                                                                                                                                Luis Hernandez   \n",
       "4                   John Williams, Elizabeth Taylor, Mary Johnson, William Moore, Barbara Wilson, Patricia Jones, Robert Brown, Jennifer Thomas   \n",
       "\n",
       "                                                                                                                                                                                                                                                                                           expected_query_results  \n",
       "0                                                                                                                                                                                                                                                                                   Christopher Garcia, Paul Hall  \n",
       "1                                                                                                                                                                                                                                                                             Christopher Garcia, Angela Martinez  \n",
       "2                                                                                                                                                                    Data Structures, Database Systems, Operating System Design, Archaeology of the Incas, Patent Law, Dairy Herd Management, Intoduction to Math  \n",
       "3                                                                                                                                                                                                                                                                                                  Luis Hernandez  \n",
       "4  Linda Davis, Barbara Wilson, John Williams, John Williams, Barbara Wilson, Jennifer Thomas, William Moore, Richard Jackson, Elizabeth Taylor, Elizabeth Taylor, Richard Jackson, Richard Jackson, Richard Jackson, Richard Jackson, John Williams, Robert Brown, Mary Johnson, Patricia Jones, Richard Jackson  "
      ]
     },
     "execution_count": 102,
     "metadata": {},
     "output_type": "execute_result"
    }
   ],
   "source": [
    "df = pd.read_csv(f'{test_type}/test_file_results.csv')\n",
    "\n",
    "df.head()"
   ]
  },
  {
   "cell_type": "code",
   "execution_count": 103,
   "metadata": {},
   "outputs": [],
   "source": [
    "df['llm_query'] = df['llm_query'].str.replace('\\n', ' ')\n",
    "df['llm_query'] = df['llm_query'].str.lower()\n",
    "df['expected_query'] = df['expected_query'].str.replace('\\n', ' ')\n",
    "df['expected_query'] = df['expected_query'].str.lower()"
   ]
  },
  {
   "cell_type": "code",
   "execution_count": 104,
   "metadata": {},
   "outputs": [],
   "source": [
    "# df = pd.read_csv('exercise-3/test_file_results_auditor.csv', dtype={'auditor_answer': str, 'auditor_query_results_answer': str})\n",
    "# df.head()"
   ]
  },
  {
   "cell_type": "code",
   "execution_count": 105,
   "metadata": {},
   "outputs": [],
   "source": [
    "auditor_answers = []\n",
    "for i, item in df.iterrows():\n",
    "    sql_query = item['llm_query']\n",
    "    expected_answer = item['expected_query']\n",
    "    result = call_gpt_api_to_check_query(sql_query, expected_answer)\n",
    "    auditor_answers.append(result)\n",
    "\n",
    "df['auditor_answer'] = auditor_answers\n",
    "df.auditor_answer = df.auditor_answer.apply(lambda x: extract_answer_tag(x))\n",
    "df.to_csv(f'{test_type}/test_file_results_auditor.csv', index=False)"
   ]
  },
  {
   "cell_type": "code",
   "execution_count": 106,
   "metadata": {},
   "outputs": [],
   "source": [
    "# df.head()"
   ]
  },
  {
   "cell_type": "code",
   "execution_count": 107,
   "metadata": {},
   "outputs": [
    {
     "data": {
      "text/plain": [
       "auditor_answer\n",
       "false    7\n",
       "true     4\n",
       "Name: count, dtype: int64"
      ]
     },
     "execution_count": 107,
     "metadata": {},
     "output_type": "execute_result"
    }
   ],
   "source": [
    "df.auditor_answer.value_counts()"
   ]
  },
  {
   "cell_type": "code",
   "execution_count": 108,
   "metadata": {},
   "outputs": [
    {
     "data": {
      "text/plain": [
       "auditor_answer\n",
       "false    63.636364\n",
       "true     36.363636\n",
       "Name: proportion, dtype: float64"
      ]
     },
     "execution_count": 108,
     "metadata": {},
     "output_type": "execute_result"
    }
   ],
   "source": [
    "df.auditor_answer.value_counts(normalize=True) * 100"
   ]
  },
  {
   "cell_type": "code",
   "execution_count": 109,
   "metadata": {},
   "outputs": [],
   "source": [
    "auditor_query_answers = []\n",
    "for i, item in df.iterrows():\n",
    "    sql_query = item['llm_executed_query_results']\n",
    "    expected_answer = item['expected_query_results']\n",
    "    result = call_gpt_api_to_check_query_answer(sql_query, expected_answer)\n",
    "    auditor_query_answers.append(result)\n",
    "\n",
    "df['auditor_query_results_answer'] = auditor_query_answers\n",
    "df.auditor_query_results_answer = df.auditor_query_results_answer.apply(lambda x: extract_answer_tag(x))\n",
    "df.to_csv(f'{test_type}/test_file_results_auditor.csv', index=False)"
   ]
  },
  {
   "cell_type": "code",
   "execution_count": 93,
   "metadata": {},
   "outputs": [],
   "source": [
    "# df.head()"
   ]
  },
  {
   "cell_type": "code",
   "execution_count": 110,
   "metadata": {},
   "outputs": [
    {
     "data": {
      "text/plain": [
       "auditor_query_results_answer\n",
       "true     6\n",
       "false    5\n",
       "Name: count, dtype: int64"
      ]
     },
     "execution_count": 110,
     "metadata": {},
     "output_type": "execute_result"
    }
   ],
   "source": [
    "df.auditor_query_results_answer.value_counts()"
   ]
  },
  {
   "cell_type": "code",
   "execution_count": 111,
   "metadata": {},
   "outputs": [
    {
     "data": {
      "text/plain": [
       "auditor_query_results_answer\n",
       "true     54.545455\n",
       "false    45.454545\n",
       "Name: proportion, dtype: float64"
      ]
     },
     "execution_count": 111,
     "metadata": {},
     "output_type": "execute_result"
    }
   ],
   "source": [
    "df.auditor_query_results_answer.value_counts(normalize=True) * 100"
   ]
  },
  {
   "cell_type": "code",
   "execution_count": 112,
   "metadata": {},
   "outputs": [
    {
     "data": {
      "text/html": [
       "<div>\n",
       "<style scoped>\n",
       "    .dataframe tbody tr th:only-of-type {\n",
       "        vertical-align: middle;\n",
       "    }\n",
       "\n",
       "    .dataframe tbody tr th {\n",
       "        vertical-align: top;\n",
       "    }\n",
       "\n",
       "    .dataframe thead th {\n",
       "        text-align: right;\n",
       "    }\n",
       "</style>\n",
       "<table border=\"1\" class=\"dataframe\">\n",
       "  <thead>\n",
       "    <tr style=\"text-align: right;\">\n",
       "      <th></th>\n",
       "      <th>question</th>\n",
       "      <th>expected_query</th>\n",
       "      <th>llm_query</th>\n",
       "      <th>llm_executed_query_results</th>\n",
       "      <th>expected_query_results</th>\n",
       "      <th>auditor_answer</th>\n",
       "      <th>auditor_query_results_answer</th>\n",
       "    </tr>\n",
       "  </thead>\n",
       "  <tbody>\n",
       "    <tr>\n",
       "      <th>0</th>\n",
       "      <td>Encontre o nome de todos os Juniores (nível = JR) que estão matriculados em um curso ministrado por Ivana Teach.</td>\n",
       "      <td>select a.nomealuno from aluno as a, curso as c, professor as p, matriculado as m where a.nivel='jr' and p.nomeprof = 'ivana teach' and c.idprof = p.idprof and m.nomecurso = c.nome and m.nroaluno = a.nroaluno;</td>\n",
       "      <td>select distinct a.nomealuno   from aluno a   join matriculado m on a.nroaluno = m.nroaluno   join curso c on m.nomecurso = c.nome   join professor p on c.idprof = p.idprof   where a.nivel = 'jr'     and p.nomeprof = 'ivana teach';</td>\n",
       "      <td>Christopher Garcia, Paul Hall</td>\n",
       "      <td>Christopher Garcia, Paul Hall</td>\n",
       "      <td>true</td>\n",
       "      <td>true</td>\n",
       "    </tr>\n",
       "    <tr>\n",
       "      <th>1</th>\n",
       "      <td>Encontre o nome do aluno mais velho que é formado em History ou matriculado em um curso ministrado pelo Ivana Teach.</td>\n",
       "      <td>select nomealuno from aluno where formacao = 'history' or nroaluno in ( select a2.nroaluno from aluno as a2, curso as c, professor as p, matriculado as m where p.nomeprof = 'ivana teach' and c.idprof = p.idprof and m.nomecurso = c.nome and m.nroaluno = a2.nroaluno) and idade &gt;= all ( select a1.idade from aluno as a1 where a1.formacao = 'history' or  a1.nroaluno in ( select a2.nroaluno from aluno as a2, curso as c, professor as p, matriculado as m where p.nomeprof = 'ivana teach' and c.idprof = p.idprof and m.nomecurso = c.nome and m.nroaluno = a2.nroaluno));</td>\n",
       "      <td>select a.nomealuno from aluno a where a.formacao = 'história'    or exists (        select 1        from matriculado m        join curso c on m.nomecurso = c.nome        join professor p on c.idprof = p.idprof        where m.nroaluno = a.nroaluno          and p.nomeprof = 'ivana teach'    ) order by a.idade desc limit 1;</td>\n",
       "      <td>Christopher Garcia</td>\n",
       "      <td>Christopher Garcia, Angela Martinez</td>\n",
       "      <td>false</td>\n",
       "      <td>false</td>\n",
       "    </tr>\n",
       "    <tr>\n",
       "      <th>2</th>\n",
       "      <td>Encontre os nomes de todos os cursos que são ministrados na sala R128 ou que têm 3 ou mais alunos matriculados.</td>\n",
       "      <td>select nome from curso as c where sala = 'r128' or (select count(distinct nroaluno)  from matriculado where nomecurso = c.nome) &gt;= 3;</td>\n",
       "      <td>select nome as course_name   from curso   where sala = 'r128'   union   select nomecurso as course_name   from matriculado   group by nomecurso   having count(nroaluno) &gt;= 3;</td>\n",
       "      <td>Operating System Design, Data Structures, Database Systems, Dairy Herd Management, Intoduction to Math, Patent Law, Archaeology of the Incas</td>\n",
       "      <td>Data Structures, Database Systems, Operating System Design, Archaeology of the Incas, Patent Law, Dairy Herd Management, Intoduction to Math</td>\n",
       "      <td>false</td>\n",
       "      <td>true</td>\n",
       "    </tr>\n",
       "    <tr>\n",
       "      <th>3</th>\n",
       "      <td>Encontre os nomes de todos os alunos que estão matriculados em dois cursos que são ministrados no mesmo horário.</td>\n",
       "      <td>select nomealuno from aluno where nroaluno in (select m1.nroaluno from matriculado as m1, matriculado as m2, curso as c1, curso as c2 where m1.nroaluno = m2.nroaluno and m1.nomecurso &lt;&gt; m2.nomecurso and m1.nomecurso = c1.nome and m2.nomecurso = c2.nome and c1.horario = c2.horario);</td>\n",
       "      <td>select distinct a.nomealuno   from aluno a   join matriculado m1 on a.nroaluno = m1.nroaluno   join curso c1 on m1.nomecurso = c1.nome   join matriculado m2 on a.nroaluno = m2.nroaluno   join curso c2 on m2.nomecurso = c2.nome   where c1.horario = c2.horario     and c1.nome &lt;&gt; c2.nome;</td>\n",
       "      <td>Luis Hernandez</td>\n",
       "      <td>Luis Hernandez</td>\n",
       "      <td>true</td>\n",
       "      <td>true</td>\n",
       "    </tr>\n",
       "    <tr>\n",
       "      <th>4</th>\n",
       "      <td>Encontre os nomes dos professores para os quais a quantidade de alunos na lista de matriculados de ao menos um dos cursos que eles ministram é menor do que 2.</td>\n",
       "      <td>select nomeprof from professor as p, curso as c where p.idprof = c.idprof and (select count(nroaluno) from matriculado where c.nome = nomecurso) &lt; 2;</td>\n",
       "      <td>select p.nomeprof   from professor p   join curso c on p.idprof = c.idprof   left join matriculado m on c.nome = m.nomecurso   group by p.idprof, p.nomeprof   having count(distinct m.nroaluno) &lt; 2;</td>\n",
       "      <td>John Williams, Elizabeth Taylor, Mary Johnson, William Moore, Barbara Wilson, Patricia Jones, Robert Brown, Jennifer Thomas</td>\n",
       "      <td>Linda Davis, Barbara Wilson, John Williams, John Williams, Barbara Wilson, Jennifer Thomas, William Moore, Richard Jackson, Elizabeth Taylor, Elizabeth Taylor, Richard Jackson, Richard Jackson, Richard Jackson, Richard Jackson, John Williams, Robert Brown, Mary Johnson, Patricia Jones, Richard Jackson</td>\n",
       "      <td>false</td>\n",
       "      <td>false</td>\n",
       "    </tr>\n",
       "  </tbody>\n",
       "</table>\n",
       "</div>"
      ],
      "text/plain": [
       "                                                                                                                                                         question  \\\n",
       "0                                                Encontre o nome de todos os Juniores (nível = JR) que estão matriculados em um curso ministrado por Ivana Teach.   \n",
       "1                                            Encontre o nome do aluno mais velho que é formado em History ou matriculado em um curso ministrado pelo Ivana Teach.   \n",
       "2                                                 Encontre os nomes de todos os cursos que são ministrados na sala R128 ou que têm 3 ou mais alunos matriculados.   \n",
       "3                                                Encontre os nomes de todos os alunos que estão matriculados em dois cursos que são ministrados no mesmo horário.   \n",
       "4  Encontre os nomes dos professores para os quais a quantidade de alunos na lista de matriculados de ao menos um dos cursos que eles ministram é menor do que 2.   \n",
       "\n",
       "                                                                                                                                                                                                                                                                                                                                                                                                                                                                                                                                                                         expected_query  \\\n",
       "0                                                                                                                                                                                                                                                                                                                                                                      select a.nomealuno from aluno as a, curso as c, professor as p, matriculado as m where a.nivel='jr' and p.nomeprof = 'ivana teach' and c.idprof = p.idprof and m.nomecurso = c.nome and m.nroaluno = a.nroaluno;   \n",
       "1  select nomealuno from aluno where formacao = 'history' or nroaluno in ( select a2.nroaluno from aluno as a2, curso as c, professor as p, matriculado as m where p.nomeprof = 'ivana teach' and c.idprof = p.idprof and m.nomecurso = c.nome and m.nroaluno = a2.nroaluno) and idade >= all ( select a1.idade from aluno as a1 where a1.formacao = 'history' or  a1.nroaluno in ( select a2.nroaluno from aluno as a2, curso as c, professor as p, matriculado as m where p.nomeprof = 'ivana teach' and c.idprof = p.idprof and m.nomecurso = c.nome and m.nroaluno = a2.nroaluno));   \n",
       "2                                                                                                                                                                                                                                                                                                                                                                                                                                                 select nome from curso as c where sala = 'r128' or (select count(distinct nroaluno)  from matriculado where nomecurso = c.nome) >= 3;   \n",
       "3                                                                                                                                                                                                                                                                                            select nomealuno from aluno where nroaluno in (select m1.nroaluno from matriculado as m1, matriculado as m2, curso as c1, curso as c2 where m1.nroaluno = m2.nroaluno and m1.nomecurso <> m2.nomecurso and m1.nomecurso = c1.nome and m2.nomecurso = c2.nome and c1.horario = c2.horario);   \n",
       "4                                                                                                                                                                                                                                                                                                                                                                                                                                 select nomeprof from professor as p, curso as c where p.idprof = c.idprof and (select count(nroaluno) from matriculado where c.nome = nomecurso) < 2;   \n",
       "\n",
       "                                                                                                                                                                                                                                                                                                                            llm_query  \\\n",
       "0                                                                                           select distinct a.nomealuno   from aluno a   join matriculado m on a.nroaluno = m.nroaluno   join curso c on m.nomecurso = c.nome   join professor p on c.idprof = p.idprof   where a.nivel = 'jr'     and p.nomeprof = 'ivana teach';      \n",
       "1  select a.nomealuno from aluno a where a.formacao = 'história'    or exists (        select 1        from matriculado m        join curso c on m.nomecurso = c.nome        join professor p on c.idprof = p.idprof        where m.nroaluno = a.nroaluno          and p.nomeprof = 'ivana teach'    ) order by a.idade desc limit 1;   \n",
       "2                                                                                                                                                   select nome as course_name   from curso   where sala = 'r128'   union   select nomecurso as course_name   from matriculado   group by nomecurso   having count(nroaluno) >= 3;      \n",
       "3                                   select distinct a.nomealuno   from aluno a   join matriculado m1 on a.nroaluno = m1.nroaluno   join curso c1 on m1.nomecurso = c1.nome   join matriculado m2 on a.nroaluno = m2.nroaluno   join curso c2 on m2.nomecurso = c2.nome   where c1.horario = c2.horario     and c1.nome <> c2.nome;      \n",
       "4                                                                                                                            select p.nomeprof   from professor p   join curso c on p.idprof = c.idprof   left join matriculado m on c.nome = m.nomecurso   group by p.idprof, p.nomeprof   having count(distinct m.nroaluno) < 2;      \n",
       "\n",
       "                                                                                                                     llm_executed_query_results  \\\n",
       "0                                                                                                                 Christopher Garcia, Paul Hall   \n",
       "1                                                                                                                            Christopher Garcia   \n",
       "2  Operating System Design, Data Structures, Database Systems, Dairy Herd Management, Intoduction to Math, Patent Law, Archaeology of the Incas   \n",
       "3                                                                                                                                Luis Hernandez   \n",
       "4                   John Williams, Elizabeth Taylor, Mary Johnson, William Moore, Barbara Wilson, Patricia Jones, Robert Brown, Jennifer Thomas   \n",
       "\n",
       "                                                                                                                                                                                                                                                                                           expected_query_results  \\\n",
       "0                                                                                                                                                                                                                                                                                   Christopher Garcia, Paul Hall   \n",
       "1                                                                                                                                                                                                                                                                             Christopher Garcia, Angela Martinez   \n",
       "2                                                                                                                                                                    Data Structures, Database Systems, Operating System Design, Archaeology of the Incas, Patent Law, Dairy Herd Management, Intoduction to Math   \n",
       "3                                                                                                                                                                                                                                                                                                  Luis Hernandez   \n",
       "4  Linda Davis, Barbara Wilson, John Williams, John Williams, Barbara Wilson, Jennifer Thomas, William Moore, Richard Jackson, Elizabeth Taylor, Elizabeth Taylor, Richard Jackson, Richard Jackson, Richard Jackson, Richard Jackson, John Williams, Robert Brown, Mary Johnson, Patricia Jones, Richard Jackson   \n",
       "\n",
       "  auditor_answer auditor_query_results_answer  \n",
       "0           true                         true  \n",
       "1          false                        false  \n",
       "2          false                         true  \n",
       "3           true                         true  \n",
       "4          false                        false  "
      ]
     },
     "execution_count": 112,
     "metadata": {},
     "output_type": "execute_result"
    }
   ],
   "source": [
    "df.head()"
   ]
  },
  {
   "cell_type": "code",
   "execution_count": 113,
   "metadata": {},
   "outputs": [
    {
     "data": {
      "image/png": "[encoded data removed]",
      "text/plain": [
       "<Figure size 800x600 with 1 Axes>"
      ]
     },
     "metadata": {},
     "output_type": "display_data"
    }
   ],
   "source": [
    "import matplotlib.pyplot as plt\n",
    "\n",
    "plt.style.use('ggplot')\n",
    "\n",
    "value_counts = df.auditor_answer.value_counts()\n",
    "percentages = df.auditor_answer.value_counts(normalize=True) * 100\n",
    "\n",
    "plt.figure(figsize=(8, 6))\n",
    "bars = plt.bar(value_counts.index, value_counts.values)\n",
    "\n",
    "for bar, percentage in zip(bars, percentages):\n",
    "    height = bar.get_height()\n",
    "    plt.text(bar.get_x() + bar.get_width()/2., height,\n",
    "             f'{percentage:.1f}%',\n",
    "             ha='center', va='bottom')\n",
    "\n",
    "\n",
    "plt.title('Queries geradas correspondentes as corretas')\n",
    "# plt.xlabel('Corret')\n",
    "plt.ylabel('N')\n",
    "plt.tight_layout()\n",
    "\n",
    "plt.show()"
   ]
  },
  {
   "cell_type": "code",
   "execution_count": 114,
   "metadata": {},
   "outputs": [
    {
     "data": {
      "image/png": "[encoded data removed]",
      "text/plain": [
       "<Figure size 800x600 with 1 Axes>"
      ]
     },
     "metadata": {},
     "output_type": "display_data"
    }
   ],
   "source": [
    "value_counts = df.auditor_query_results_answer.value_counts()\n",
    "percentages = df.auditor_query_results_answer.value_counts(normalize=True) * 100\n",
    "\n",
    "\n",
    "plt.figure(figsize=(8, 6))\n",
    "bars = plt.bar(value_counts.index, value_counts.values)\n",
    "\n",
    "for bar, percentage in zip(bars, percentages):\n",
    "    height = bar.get_height()\n",
    "    plt.text(bar.get_x() + bar.get_width()/2., height,\n",
    "             f'{percentage:.1f}%',\n",
    "             ha='center', va='bottom')\n",
    "\n",
    "\n",
    "plt.title('Respostas das consultas geradas correspondentes as corretas')\n",
    "# plt.xlabel('Corret')\n",
    "plt.ylabel('N')\n",
    "plt.tight_layout()\n",
    "\n",
    "plt.show()"
   ]
  },
  {
   "cell_type": "code",
   "execution_count": null,
   "metadata": {},
   "outputs": [],
   "source": []
  }
 ],
 "metadata": {
  "kernelspec": {
   "display_name": "AI Env",
   "language": "python",
   "name": "ai"
  },
  "language_info": {
   "codemirror_mode": {
    "name": "ipython",
    "version": 3
   },
   "file_extension": ".py",
   "mimetype": "text/x-python",
   "name": "python",
   "nbconvert_exporter": "python",
   "pygments_lexer": "ipython3",
   "version": "3.10.16"
  }
 },
 "nbformat": 4,
 "nbformat_minor": 2
}
