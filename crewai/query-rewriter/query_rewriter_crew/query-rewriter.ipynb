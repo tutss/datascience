{
 "cells": [
  {
   "cell_type": "code",
   "execution_count": 1,
   "metadata": {},
   "outputs": [],
   "source": [
    "from crewai import Agent, Task, Crew, LLM\n",
    "from crewai.tools import tool\n",
    "\n",
    "from crew import SQLCrew\n",
    "\n",
    "import psycopg2"
   ]
  },
  {
   "cell_type": "code",
   "execution_count": 2,
   "metadata": {},
   "outputs": [],
   "source": [
    "CONNECTION = psycopg2.connect(\"dbname=test user=crewai\")"
   ]
  },
  {
   "cell_type": "code",
   "execution_count": 4,
   "metadata": {},
   "outputs": [],
   "source": [
    "sql_crew = SQLCrew().crew()"
   ]
  },
  {
   "cell_type": "code",
   "execution_count": 8,
   "metadata": {},
   "outputs": [
    {
     "data": {
      "text/plain": [
       "Crew(id=bc83ae48-4fc2-4c06-9bce-fa87fe6fdabf, process=sequential, number_of_agents=2, number_of_tasks=2)"
      ]
     },
     "execution_count": 8,
     "metadata": {},
     "output_type": "execute_result"
    }
   ],
   "source": [
    "sql_crew"
   ]
  },
  {
   "cell_type": "code",
   "execution_count": 6,
   "metadata": {},
   "outputs": [
    {
     "data": {
      "text/plain": [
       "[Agent(role=Responsible to rewrite and validate human user input text\n",
       " , goal=Rewrite a human user input text into a meaningful equivalent text removing any non-essential information and ensuring the text is clear, concise and respectful.\n",
       " , backstory=You are an experienced analyzer and rewriter with a talent for rewriting text that maintains content but it is more clear.  You excel at organizing information in a clear and concise manner,  making a text more readable and appropriate.\n",
       " ),\n",
       " Agent(role=SQL Data Analyst and Data Engineer for {query}\n",
       " , goal=Generate a SQL query for a given query written in free text. SQL query should be able to be executed on a database.\n",
       " , backstory=You are a skilled analyst with a background in data manipulation and data processing. You have a talent for identifying patterns and extracting meaningful insights from a free form text and mapping into a valid and executable SQL query.\n",
       " )]"
      ]
     },
     "execution_count": 6,
     "metadata": {},
     "output_type": "execute_result"
    }
   ],
   "source": [
    "sql_crew.agents"
   ]
  },
  {
   "cell_type": "code",
   "execution_count": 7,
   "metadata": {},
   "outputs": [
    {
     "data": {
      "text/plain": [
       "[Task(description=Rewrite a human input string. Focus on: 1. Correcting typos 2. Rewriting into concise way 3. Emphasize the intent.\n",
       " , expected_output=A re-written string with the same meaning and content from user input that is concise, accurate and clear.\n",
       " ),\n",
       " Task(description=Generate a SQL query based on the user input: {query}. Focus on: 1. Retrieving relevant data 2. Filtering and sorting the data 3. Limiting the number of results, if necessary 4. Formatting the query in a way that is easy to understand and execute 5. Select the appropriate tables to add to the query\n",
       " The available tables are: {available_tables}\n",
       " Make sure to generate a query that is optimized and executable\n",
       " , expected_output=A SQL query that retrieves and processes data based on the user input. The query should be optimized and executable. The query should use only the available tables and columns.\n",
       " )]"
      ]
     },
     "execution_count": 7,
     "metadata": {},
     "output_type": "execute_result"
    }
   ],
   "source": [
    "sql_crew.tasks"
   ]
  },
  {
   "cell_type": "code",
   "execution_count": null,
   "metadata": {},
   "outputs": [],
   "source": []
  }
 ],
 "metadata": {
  "kernelspec": {
   "display_name": "AI Env",
   "language": "python",
   "name": "ai"
  },
  "language_info": {
   "codemirror_mode": {
    "name": "ipython",
    "version": 3
   },
   "file_extension": ".py",
   "mimetype": "text/x-python",
   "name": "python",
   "nbconvert_exporter": "python",
   "pygments_lexer": "ipython3",
   "version": "3.10.16"
  }
 },
 "nbformat": 4,
 "nbformat_minor": 2
}
