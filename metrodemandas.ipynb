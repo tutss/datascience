{
 "cells": [
  {
   "cell_type": "markdown",
   "metadata": {},
   "source": [
    "# Dados sobre o Metrô de São Paulo\n",
    "\n",
    "O Metrô de São Paulo, utilizado por milhares de usuários todos os dias, faz parte do cotidiano da maioria da população de São Paulo.\n",
    "\n",
    "Iremos analisar algumas informações obtidas pela inciativa Governo Aberto (http://catalogo.governoaberto.sp.gov.br/)."
   ]
  },
  {
   "cell_type": "markdown",
   "metadata": {},
   "source": [
    "Iremos utilizar a bibliotecas Pandas e MatPlotLIb, do Python, como ferramentas para análises"
   ]
  },
  {
   "cell_type": "code",
   "execution_count": 2,
   "metadata": {},
   "outputs": [],
   "source": [
    "import matplotlib.pyplot as plt\n",
    "import numpy as np\n",
    "import pandas as pd"
   ]
  },
  {
   "cell_type": "markdown",
   "metadata": {},
   "source": [
    "Primeiramente, iremos analisar os dados de Janeiro de 2018."
   ]
  },
  {
   "cell_type": "code",
   "execution_count": 72,
   "metadata": {},
   "outputs": [
    {
     "data": {
      "text/html": [
       "<div>\n",
       "<style scoped>\n",
       "    .dataframe tbody tr th:only-of-type {\n",
       "        vertical-align: middle;\n",
       "    }\n",
       "\n",
       "    .dataframe tbody tr th {\n",
       "        vertical-align: top;\n",
       "    }\n",
       "\n",
       "    .dataframe thead th {\n",
       "        text-align: right;\n",
       "    }\n",
       "</style>\n",
       "<table border=\"1\" class=\"dataframe\">\n",
       "  <thead>\n",
       "    <tr style=\"text-align: right;\">\n",
       "      <th></th>\n",
       "      <th>Unnamed: 0</th>\n",
       "      <th>Lazul</th>\n",
       "      <th>Lv</th>\n",
       "      <th>Lver</th>\n",
       "      <th>Lli</th>\n",
       "      <th>Lpra</th>\n",
       "      <th>Rede</th>\n",
       "    </tr>\n",
       "  </thead>\n",
       "  <tbody>\n",
       "    <tr>\n",
       "      <th>0</th>\n",
       "      <td>Total</td>\n",
       "      <td>28972</td>\n",
       "      <td>13602</td>\n",
       "      <td>29999</td>\n",
       "      <td>5522</td>\n",
       "      <td>379</td>\n",
       "      <td>78475</td>\n",
       "    </tr>\n",
       "    <tr>\n",
       "      <th>1</th>\n",
       "      <td>M�dia dos dias �teis</td>\n",
       "      <td>1169</td>\n",
       "      <td>570</td>\n",
       "      <td>1196</td>\n",
       "      <td>226</td>\n",
       "      <td>17</td>\n",
       "      <td>3178</td>\n",
       "    </tr>\n",
       "    <tr>\n",
       "      <th>2</th>\n",
       "      <td>M�dia dos S�bados</td>\n",
       "      <td>701</td>\n",
       "      <td>276</td>\n",
       "      <td>748</td>\n",
       "      <td>139</td>\n",
       "      <td>6</td>\n",
       "      <td>1868</td>\n",
       "    </tr>\n",
       "    <tr>\n",
       "      <th>3</th>\n",
       "      <td>M�dia dos Domingos</td>\n",
       "      <td>402</td>\n",
       "      <td>167</td>\n",
       "      <td>439</td>\n",
       "      <td>55</td>\n",
       "      <td>3</td>\n",
       "      <td>1065</td>\n",
       "    </tr>\n",
       "    <tr>\n",
       "      <th>4</th>\n",
       "      <td>M�xima Di�ria</td>\n",
       "      <td>1289</td>\n",
       "      <td>639</td>\n",
       "      <td>1309</td>\n",
       "      <td>249</td>\n",
       "      <td>19</td>\n",
       "      <td>3497</td>\n",
       "    </tr>\n",
       "  </tbody>\n",
       "</table>\n",
       "</div>"
      ],
      "text/plain": [
       "              Unnamed: 0  Lazul     Lv   Lver   Lli  Lpra   Rede\n",
       "0                  Total  28972  13602  29999  5522   379  78475\n",
       "1  M�dia dos dias �teis    1169    570   1196   226    17   3178\n",
       "2     M�dia dos S�bados     701    276    748   139     6   1868\n",
       "3    M�dia dos Domingos     402    167    439    55     3   1065\n",
       "4         M�xima Di�ria    1289    639   1309   249    19   3497"
      ]
     },
     "execution_count": 72,
     "metadata": {},
     "output_type": "execute_result"
    }
   ],
   "source": [
    "df = pd.read_csv('metro/demanda/2018/PTranspLinhaJan2018.csv', sep=',',encoding='utf-8')\n",
    "df"
   ]
  },
  {
   "cell_type": "code",
   "execution_count": 78,
   "metadata": {},
   "outputs": [
    {
     "data": {
      "text/plain": [
       "0    13602\n",
       "Name: Lv, dtype: int64"
      ]
     },
     "execution_count": 78,
     "metadata": {},
     "output_type": "execute_result"
    }
   ],
   "source": [
    "dftotais = df.iloc[0:1]\n",
    "dftotais['Lv']\n",
    "# df_shaped.plot(kind='bar')\n",
    "# dftotais"
   ]
  },
  {
   "cell_type": "code",
   "execution_count": null,
   "metadata": {},
   "outputs": [],
   "source": []
  }
 ],
 "metadata": {
  "kernelspec": {
   "display_name": "Python 3",
   "language": "python",
   "name": "python3"
  },
  "language_info": {
   "codemirror_mode": {
    "name": "ipython",
    "version": 3
   },
   "file_extension": ".py",
   "mimetype": "text/x-python",
   "name": "python",
   "nbconvert_exporter": "python",
   "pygments_lexer": "ipython3",
   "version": "3.6.4"
  }
 },
 "nbformat": 4,
 "nbformat_minor": 2
}
